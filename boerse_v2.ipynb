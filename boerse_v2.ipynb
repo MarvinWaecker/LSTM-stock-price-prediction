{
 "cells": [
  {
   "cell_type": "markdown",
   "metadata": {},
   "source": [
    "# Stock Price Prediction"
   ]
  },
  {
   "cell_type": "markdown",
   "metadata": {},
   "source": [
    "-\n",
    "\n",
    "\n",
    "\n",
    "\n",
    "by Marie & Tea \n",
    "\n",
    "\n",
    "\n",
    "\n",
    "-"
   ]
  },
  {
   "cell_type": "code",
   "execution_count": 2,
   "metadata": {},
   "outputs": [
    {
     "name": "stderr",
     "output_type": "stream",
     "text": [
      "<ipython-input-2-b401c377861b>:4: FutureWarning: The pandas.datetime class is deprecated and will be removed from pandas in a future version. Import from datetime module instead.\n",
      "  from pandas import datetime\n"
     ]
    }
   ],
   "source": [
    "# Bibliotheken importieren\n",
    "import numpy as np\n",
    "import matplotlib.pyplot as plt\n",
    "import pandas as pd\n",
    "from pandas import datetime\n",
    "import math, time\n",
    "import itertools\n",
    "import sklearn\n",
    "from sklearn import preprocessing\n",
    "from sklearn.preprocessing import MinMaxScaler\n",
    "import datetime\n",
    "from operator import itemgetter\n",
    "from sklearn.metrics import mean_squared_error\n",
    "from math import sqrt\n",
    "from keras.models import Sequential\n",
    "from keras.layers.core import Dense, Dropout, Activation\n",
    "from keras.layers.recurrent import LSTM\n",
    "from keras.layers import SimpleRNN\n",
    "from keras.models import load_model\n",
    "import keras\n",
    "import h5py\n",
    "import requests\n",
    "import os"
   ]
  },
  {
   "cell_type": "markdown",
   "metadata": {},
   "source": [
    "## Arbeitspaket 1: Datenvisualisierung"
   ]
  },
  {
   "cell_type": "markdown",
   "metadata": {},
   "source": [
    "### Get Data"
   ]
  },
  {
   "cell_type": "code",
   "execution_count": 3,
   "metadata": {},
   "outputs": [],
   "source": [
    "# csv einlesen\n",
    "df_aapl = pd.read_csv('AAPL.csv')\n",
    "df_t = pd.read_csv('T.csv')"
   ]
  },
  {
   "cell_type": "code",
   "execution_count": 4,
   "metadata": {
    "scrolled": true
   },
   "outputs": [
    {
     "data": {
      "text/html": [
       "<div>\n",
       "<style scoped>\n",
       "    .dataframe tbody tr th:only-of-type {\n",
       "        vertical-align: middle;\n",
       "    }\n",
       "\n",
       "    .dataframe tbody tr th {\n",
       "        vertical-align: top;\n",
       "    }\n",
       "\n",
       "    .dataframe thead th {\n",
       "        text-align: right;\n",
       "    }\n",
       "</style>\n",
       "<table border=\"1\" class=\"dataframe\">\n",
       "  <thead>\n",
       "    <tr style=\"text-align: right;\">\n",
       "      <th></th>\n",
       "      <th>Date</th>\n",
       "      <th>Open</th>\n",
       "      <th>High</th>\n",
       "      <th>Low</th>\n",
       "      <th>Close</th>\n",
       "      <th>Adj Close</th>\n",
       "      <th>Volume</th>\n",
       "    </tr>\n",
       "  </thead>\n",
       "  <tbody>\n",
       "    <tr>\n",
       "      <th>0</th>\n",
       "      <td>2015-12-16</td>\n",
       "      <td>27.767500</td>\n",
       "      <td>27.997499</td>\n",
       "      <td>27.200001</td>\n",
       "      <td>27.834999</td>\n",
       "      <td>25.578905</td>\n",
       "      <td>224954000</td>\n",
       "    </tr>\n",
       "    <tr>\n",
       "      <th>1</th>\n",
       "      <td>2015-12-17</td>\n",
       "      <td>28.004999</td>\n",
       "      <td>28.062500</td>\n",
       "      <td>27.245001</td>\n",
       "      <td>27.245001</td>\n",
       "      <td>25.036730</td>\n",
       "      <td>179091200</td>\n",
       "    </tr>\n",
       "    <tr>\n",
       "      <th>2</th>\n",
       "      <td>2015-12-18</td>\n",
       "      <td>27.227501</td>\n",
       "      <td>27.379999</td>\n",
       "      <td>26.452499</td>\n",
       "      <td>26.507500</td>\n",
       "      <td>24.359007</td>\n",
       "      <td>385813200</td>\n",
       "    </tr>\n",
       "    <tr>\n",
       "      <th>3</th>\n",
       "      <td>2015-12-21</td>\n",
       "      <td>26.820000</td>\n",
       "      <td>26.842501</td>\n",
       "      <td>26.392500</td>\n",
       "      <td>26.832500</td>\n",
       "      <td>24.657661</td>\n",
       "      <td>190362400</td>\n",
       "    </tr>\n",
       "    <tr>\n",
       "      <th>4</th>\n",
       "      <td>2015-12-22</td>\n",
       "      <td>26.850000</td>\n",
       "      <td>26.930000</td>\n",
       "      <td>26.612499</td>\n",
       "      <td>26.807501</td>\n",
       "      <td>24.634689</td>\n",
       "      <td>131157600</td>\n",
       "    </tr>\n",
       "  </tbody>\n",
       "</table>\n",
       "</div>"
      ],
      "text/plain": [
       "         Date       Open       High        Low      Close  Adj Close  \\\n",
       "0  2015-12-16  27.767500  27.997499  27.200001  27.834999  25.578905   \n",
       "1  2015-12-17  28.004999  28.062500  27.245001  27.245001  25.036730   \n",
       "2  2015-12-18  27.227501  27.379999  26.452499  26.507500  24.359007   \n",
       "3  2015-12-21  26.820000  26.842501  26.392500  26.832500  24.657661   \n",
       "4  2015-12-22  26.850000  26.930000  26.612499  26.807501  24.634689   \n",
       "\n",
       "      Volume  \n",
       "0  224954000  \n",
       "1  179091200  \n",
       "2  385813200  \n",
       "3  190362400  \n",
       "4  131157600  "
      ]
     },
     "execution_count": 4,
     "metadata": {},
     "output_type": "execute_result"
    }
   ],
   "source": [
    "# erste paar Zeilen anschauen Apple\n",
    "df_aapl.head()"
   ]
  },
  {
   "cell_type": "code",
   "execution_count": 5,
   "metadata": {},
   "outputs": [
    {
     "data": {
      "text/html": [
       "<div>\n",
       "<style scoped>\n",
       "    .dataframe tbody tr th:only-of-type {\n",
       "        vertical-align: middle;\n",
       "    }\n",
       "\n",
       "    .dataframe tbody tr th {\n",
       "        vertical-align: top;\n",
       "    }\n",
       "\n",
       "    .dataframe thead th {\n",
       "        text-align: right;\n",
       "    }\n",
       "</style>\n",
       "<table border=\"1\" class=\"dataframe\">\n",
       "  <thead>\n",
       "    <tr style=\"text-align: right;\">\n",
       "      <th></th>\n",
       "      <th>Date</th>\n",
       "      <th>Open</th>\n",
       "      <th>High</th>\n",
       "      <th>Low</th>\n",
       "      <th>Close</th>\n",
       "      <th>Adj Close</th>\n",
       "      <th>Volume</th>\n",
       "    </tr>\n",
       "  </thead>\n",
       "  <tbody>\n",
       "    <tr>\n",
       "      <th>0</th>\n",
       "      <td>2015-12-16</td>\n",
       "      <td>33.910000</td>\n",
       "      <td>34.480000</td>\n",
       "      <td>33.900002</td>\n",
       "      <td>34.400002</td>\n",
       "      <td>25.919930</td>\n",
       "      <td>31192700</td>\n",
       "    </tr>\n",
       "    <tr>\n",
       "      <th>1</th>\n",
       "      <td>2015-12-17</td>\n",
       "      <td>34.419998</td>\n",
       "      <td>34.610001</td>\n",
       "      <td>34.029999</td>\n",
       "      <td>34.029999</td>\n",
       "      <td>25.641140</td>\n",
       "      <td>27720500</td>\n",
       "    </tr>\n",
       "    <tr>\n",
       "      <th>2</th>\n",
       "      <td>2015-12-18</td>\n",
       "      <td>33.869999</td>\n",
       "      <td>34.000000</td>\n",
       "      <td>33.599998</td>\n",
       "      <td>33.599998</td>\n",
       "      <td>25.317139</td>\n",
       "      <td>51216300</td>\n",
       "    </tr>\n",
       "    <tr>\n",
       "      <th>3</th>\n",
       "      <td>2015-12-21</td>\n",
       "      <td>33.919998</td>\n",
       "      <td>34.110001</td>\n",
       "      <td>33.750000</td>\n",
       "      <td>34.090000</td>\n",
       "      <td>25.686344</td>\n",
       "      <td>20392400</td>\n",
       "    </tr>\n",
       "    <tr>\n",
       "      <th>4</th>\n",
       "      <td>2015-12-22</td>\n",
       "      <td>34.290001</td>\n",
       "      <td>34.480000</td>\n",
       "      <td>34.009998</td>\n",
       "      <td>34.410000</td>\n",
       "      <td>25.927462</td>\n",
       "      <td>20427300</td>\n",
       "    </tr>\n",
       "  </tbody>\n",
       "</table>\n",
       "</div>"
      ],
      "text/plain": [
       "         Date       Open       High        Low      Close  Adj Close    Volume\n",
       "0  2015-12-16  33.910000  34.480000  33.900002  34.400002  25.919930  31192700\n",
       "1  2015-12-17  34.419998  34.610001  34.029999  34.029999  25.641140  27720500\n",
       "2  2015-12-18  33.869999  34.000000  33.599998  33.599998  25.317139  51216300\n",
       "3  2015-12-21  33.919998  34.110001  33.750000  34.090000  25.686344  20392400\n",
       "4  2015-12-22  34.290001  34.480000  34.009998  34.410000  25.927462  20427300"
      ]
     },
     "execution_count": 5,
     "metadata": {},
     "output_type": "execute_result"
    }
   ],
   "source": [
    "# erste paar Zeilen anschauen AT&T\n",
    "df_t.head()"
   ]
  },
  {
   "cell_type": "code",
   "execution_count": 31,
   "metadata": {},
   "outputs": [
    {
     "data": {
      "image/png": "[encoded data removed]",
      "text/plain": [
       "<Figure size 432x288 with 1 Axes>"
      ]
     },
     "metadata": {
      "needs_background": "light"
     },
     "output_type": "display_data"
    }
   ],
   "source": [
    "# Apple Aktienverlauf und AT&T Aktienverlauf vergleichen\n",
    "# Code ist von unten aus dem Beispiel zur Visualisierung des vorhergesagten Aktienpreises\n",
    "plt.plot(df_aapl['Adj Close'],color='red', label='Apple')\n",
    "plt.plot(df_t['Adj Close'],color='blue', label='AT&T')\n",
    "plt.legend(loc='best')\n",
    "plt.show()"
   ]
  },
  {
   "cell_type": "markdown",
   "metadata": {},
   "source": [
    "### Profit per day "
   ]
  },
  {
   "cell_type": "markdown",
   "metadata": {},
   "source": [
    "### Max & Min Stock Value "
   ]
  },
  {
   "cell_type": "markdown",
   "metadata": {},
   "source": [
    "#### Wann einsteigen damit sich Aktienwert verdoppelt (Apple)?"
   ]
  },
  {
   "cell_type": "markdown",
   "metadata": {},
   "source": [
    "Bei Apple passt da fast jedes Datum bis Ende 2019 (siehe Diagramm)."
   ]
  },
  {
   "cell_type": "markdown",
   "metadata": {},
   "source": [
    "### Plot Stock Volume Evolution"
   ]
  },
  {
   "cell_type": "markdown",
   "metadata": {},
   "source": [
    "## Arbeitspaket 2: Datenaufbereitung"
   ]
  },
  {
   "cell_type": "markdown",
   "metadata": {},
   "source": [
    "Prediction Goal: \n",
    "- Adj Close\n",
    "\n",
    "Features:\n",
    "- (Date)\n",
    "- Open \n",
    "- High\n",
    "- Low\n",
    "- Adj Close"
   ]
  },
  {
   "cell_type": "markdown",
   "metadata": {},
   "source": [
    "### Load CSV"
   ]
  },
  {
   "cell_type": "markdown",
   "metadata": {},
   "source": [
    "### Normalize Data"
   ]
  },
  {
   "cell_type": "code",
   "execution_count": 7,
   "metadata": {},
   "outputs": [],
   "source": [
    "# Da man diesen Code mehrmals braucht macht es Sinn ihn als Methode\n",
    "# zu verpacken\n",
    "\n",
    "# Daten normalisieren (zwishen -1 und 1 bringen)\n",
    "def normalize_data(df):\n",
    "    min_max_scaler = MinMaxScaler()\n",
    "    df['Open'] = min_max_scaler.fit_transform(df.Open.values.reshape(-1,1))\n",
    "    df['High'] = min_max_scaler.fit_transform(df.High.values.reshape(-1,1))\n",
    "    df['Low'] = min_max_scaler.fit_transform(df.Low.values.reshape(-1,1))\n",
    "    # Volumen brauchen wir nicht, da nicht gefragt\n",
    "    #df['Volume'] = min_max_scaler.fit_transform(df.volume.values.reshape(-1,1))\n",
    "    df['Adj Close'] = min_max_scaler.fit_transform(df['Adj Close'].values.reshape(-1,1))\n",
    "    return df"
   ]
  },
  {
   "cell_type": "markdown",
   "metadata": {},
   "source": [
    "### Load Data"
   ]
  },
  {
   "cell_type": "code",
   "execution_count": 8,
   "metadata": {},
   "outputs": [],
   "source": [
    "# Daten vorbereiten - \n",
    "# Sliding Window \n",
    "# Split in Training und Test Daten\n",
    "def load_data(stock, seq_len): \n",
    "    \n",
    "    amount_of_features = len(stock.columns) \n",
    "    #data = stock.as_matrix()\n",
    "    data = stock.values\n",
    "    \n",
    "    \n",
    "    sequence_length = seq_len + 1 \n",
    "    result = []\n",
    "    \n",
    "    for index in range(len(data) - sequence_length): \n",
    "        result.append(data[index: index + sequence_length]) \n",
    "    \n",
    "    result = np.array(result)\n",
    "    row = round(0.9 * result.shape[0]) \n",
    "    train = result[:int(row), :] \n",
    "    \n",
    "    x_train = train[:, :-1] \n",
    "    y_train = train[:, -1][:,-1]\n",
    "    \n",
    "    x_test = result[int(row):, :-1] \n",
    "    y_test = result[int(row):, -1][:,-1]\n",
    "\n",
    "    x_train = np.reshape(x_train, (x_train.shape[0], x_train.shape[1], amount_of_features))\n",
    "    x_test = np.reshape(x_test, (x_test.shape[0], x_test.shape[1], amount_of_features))  \n",
    "\n",
    "    return [x_train, y_train, x_test, y_test]"
   ]
  },
  {
   "cell_type": "markdown",
   "metadata": {},
   "source": [
    "### Prepare Apple Data"
   ]
  },
  {
   "cell_type": "code",
   "execution_count": 9,
   "metadata": {},
   "outputs": [
    {
     "data": {
      "text/html": [
       "<div>\n",
       "<style scoped>\n",
       "    .dataframe tbody tr th:only-of-type {\n",
       "        vertical-align: middle;\n",
       "    }\n",
       "\n",
       "    .dataframe tbody tr th {\n",
       "        vertical-align: top;\n",
       "    }\n",
       "\n",
       "    .dataframe thead th {\n",
       "        text-align: right;\n",
       "    }\n",
       "</style>\n",
       "<table border=\"1\" class=\"dataframe\">\n",
       "  <thead>\n",
       "    <tr style=\"text-align: right;\">\n",
       "      <th></th>\n",
       "      <th>Open</th>\n",
       "      <th>High</th>\n",
       "      <th>Low</th>\n",
       "      <th>Adj Close</th>\n",
       "    </tr>\n",
       "    <tr>\n",
       "      <th>Date</th>\n",
       "      <th></th>\n",
       "      <th></th>\n",
       "      <th></th>\n",
       "      <th></th>\n",
       "    </tr>\n",
       "  </thead>\n",
       "  <tbody>\n",
       "    <tr>\n",
       "      <th>2015-12-16</th>\n",
       "      <td>27.767500</td>\n",
       "      <td>27.997499</td>\n",
       "      <td>27.200001</td>\n",
       "      <td>25.578905</td>\n",
       "    </tr>\n",
       "    <tr>\n",
       "      <th>2015-12-17</th>\n",
       "      <td>28.004999</td>\n",
       "      <td>28.062500</td>\n",
       "      <td>27.245001</td>\n",
       "      <td>25.036730</td>\n",
       "    </tr>\n",
       "    <tr>\n",
       "      <th>2015-12-18</th>\n",
       "      <td>27.227501</td>\n",
       "      <td>27.379999</td>\n",
       "      <td>26.452499</td>\n",
       "      <td>24.359007</td>\n",
       "    </tr>\n",
       "    <tr>\n",
       "      <th>2015-12-21</th>\n",
       "      <td>26.820000</td>\n",
       "      <td>26.842501</td>\n",
       "      <td>26.392500</td>\n",
       "      <td>24.657661</td>\n",
       "    </tr>\n",
       "    <tr>\n",
       "      <th>2015-12-22</th>\n",
       "      <td>26.850000</td>\n",
       "      <td>26.930000</td>\n",
       "      <td>26.612499</td>\n",
       "      <td>24.634689</td>\n",
       "    </tr>\n",
       "  </tbody>\n",
       "</table>\n",
       "</div>"
      ],
      "text/plain": [
       "                 Open       High        Low  Adj Close\n",
       "Date                                                  \n",
       "2015-12-16  27.767500  27.997499  27.200001  25.578905\n",
       "2015-12-17  28.004999  28.062500  27.245001  25.036730\n",
       "2015-12-18  27.227501  27.379999  26.452499  24.359007\n",
       "2015-12-21  26.820000  26.842501  26.392500  24.657661\n",
       "2015-12-22  26.850000  26.930000  26.612499  24.634689"
      ]
     },
     "execution_count": 9,
     "metadata": {},
     "output_type": "execute_result"
    }
   ],
   "source": [
    "# Apple csv einlesen\n",
    "df_apple = pd.read_csv('AAPL.csv', index_col = 0)\n",
    "# Feature Volume entfernen\n",
    "df_apple.drop(['Volume'], 1, inplace=True)\n",
    "# Feature Close entfernen\n",
    "df_apple.drop(['Close'], 1, inplace=True)\n",
    "\n",
    "df_apple.head()"
   ]
  },
  {
   "cell_type": "code",
   "execution_count": 10,
   "metadata": {},
   "outputs": [
    {
     "data": {
      "text/html": [
       "<div>\n",
       "<style scoped>\n",
       "    .dataframe tbody tr th:only-of-type {\n",
       "        vertical-align: middle;\n",
       "    }\n",
       "\n",
       "    .dataframe tbody tr th {\n",
       "        vertical-align: top;\n",
       "    }\n",
       "\n",
       "    .dataframe thead th {\n",
       "        text-align: right;\n",
       "    }\n",
       "</style>\n",
       "<table border=\"1\" class=\"dataframe\">\n",
       "  <thead>\n",
       "    <tr style=\"text-align: right;\">\n",
       "      <th></th>\n",
       "      <th>Open</th>\n",
       "      <th>High</th>\n",
       "      <th>Low</th>\n",
       "      <th>Adj Close</th>\n",
       "    </tr>\n",
       "    <tr>\n",
       "      <th>Date</th>\n",
       "      <th></th>\n",
       "      <th></th>\n",
       "      <th></th>\n",
       "      <th></th>\n",
       "    </tr>\n",
       "  </thead>\n",
       "  <tbody>\n",
       "    <tr>\n",
       "      <th>2015-12-16</th>\n",
       "      <td>0.045769</td>\n",
       "      <td>0.044150</td>\n",
       "      <td>0.044678</td>\n",
       "      <td>0.040590</td>\n",
       "    </tr>\n",
       "    <tr>\n",
       "      <th>2015-12-17</th>\n",
       "      <td>0.047832</td>\n",
       "      <td>0.044715</td>\n",
       "      <td>0.045094</td>\n",
       "      <td>0.035790</td>\n",
       "    </tr>\n",
       "    <tr>\n",
       "      <th>2015-12-18</th>\n",
       "      <td>0.041077</td>\n",
       "      <td>0.038783</td>\n",
       "      <td>0.037767</td>\n",
       "      <td>0.029790</td>\n",
       "    </tr>\n",
       "    <tr>\n",
       "      <th>2015-12-21</th>\n",
       "      <td>0.037536</td>\n",
       "      <td>0.034112</td>\n",
       "      <td>0.037213</td>\n",
       "      <td>0.032434</td>\n",
       "    </tr>\n",
       "    <tr>\n",
       "      <th>2015-12-22</th>\n",
       "      <td>0.037797</td>\n",
       "      <td>0.034872</td>\n",
       "      <td>0.039246</td>\n",
       "      <td>0.032231</td>\n",
       "    </tr>\n",
       "  </tbody>\n",
       "</table>\n",
       "</div>"
      ],
      "text/plain": [
       "                Open      High       Low  Adj Close\n",
       "Date                                               \n",
       "2015-12-16  0.045769  0.044150  0.044678   0.040590\n",
       "2015-12-17  0.047832  0.044715  0.045094   0.035790\n",
       "2015-12-18  0.041077  0.038783  0.037767   0.029790\n",
       "2015-12-21  0.037536  0.034112  0.037213   0.032434\n",
       "2015-12-22  0.037797  0.034872  0.039246   0.032231"
      ]
     },
     "execution_count": 10,
     "metadata": {},
     "output_type": "execute_result"
    }
   ],
   "source": [
    "df_apple = normalize_data(df_apple)\n",
    "df_apple.head()"
   ]
  },
  {
   "cell_type": "markdown",
   "metadata": {},
   "source": [
    "### Prepare AT&T Data"
   ]
  },
  {
   "cell_type": "code",
   "execution_count": 11,
   "metadata": {},
   "outputs": [
    {
     "data": {
      "text/html": [
       "<div>\n",
       "<style scoped>\n",
       "    .dataframe tbody tr th:only-of-type {\n",
       "        vertical-align: middle;\n",
       "    }\n",
       "\n",
       "    .dataframe tbody tr th {\n",
       "        vertical-align: top;\n",
       "    }\n",
       "\n",
       "    .dataframe thead th {\n",
       "        text-align: right;\n",
       "    }\n",
       "</style>\n",
       "<table border=\"1\" class=\"dataframe\">\n",
       "  <thead>\n",
       "    <tr style=\"text-align: right;\">\n",
       "      <th></th>\n",
       "      <th>Open</th>\n",
       "      <th>High</th>\n",
       "      <th>Low</th>\n",
       "      <th>Adj Close</th>\n",
       "    </tr>\n",
       "    <tr>\n",
       "      <th>Date</th>\n",
       "      <th></th>\n",
       "      <th></th>\n",
       "      <th></th>\n",
       "      <th></th>\n",
       "    </tr>\n",
       "  </thead>\n",
       "  <tbody>\n",
       "    <tr>\n",
       "      <th>2015-12-16</th>\n",
       "      <td>33.910000</td>\n",
       "      <td>34.480000</td>\n",
       "      <td>33.900002</td>\n",
       "      <td>25.919930</td>\n",
       "    </tr>\n",
       "    <tr>\n",
       "      <th>2015-12-17</th>\n",
       "      <td>34.419998</td>\n",
       "      <td>34.610001</td>\n",
       "      <td>34.029999</td>\n",
       "      <td>25.641140</td>\n",
       "    </tr>\n",
       "    <tr>\n",
       "      <th>2015-12-18</th>\n",
       "      <td>33.869999</td>\n",
       "      <td>34.000000</td>\n",
       "      <td>33.599998</td>\n",
       "      <td>25.317139</td>\n",
       "    </tr>\n",
       "    <tr>\n",
       "      <th>2015-12-21</th>\n",
       "      <td>33.919998</td>\n",
       "      <td>34.110001</td>\n",
       "      <td>33.750000</td>\n",
       "      <td>25.686344</td>\n",
       "    </tr>\n",
       "    <tr>\n",
       "      <th>2015-12-22</th>\n",
       "      <td>34.290001</td>\n",
       "      <td>34.480000</td>\n",
       "      <td>34.009998</td>\n",
       "      <td>25.927462</td>\n",
       "    </tr>\n",
       "  </tbody>\n",
       "</table>\n",
       "</div>"
      ],
      "text/plain": [
       "                 Open       High        Low  Adj Close\n",
       "Date                                                  \n",
       "2015-12-16  33.910000  34.480000  33.900002  25.919930\n",
       "2015-12-17  34.419998  34.610001  34.029999  25.641140\n",
       "2015-12-18  33.869999  34.000000  33.599998  25.317139\n",
       "2015-12-21  33.919998  34.110001  33.750000  25.686344\n",
       "2015-12-22  34.290001  34.480000  34.009998  25.927462"
      ]
     },
     "execution_count": 11,
     "metadata": {},
     "output_type": "execute_result"
    }
   ],
   "source": [
    "# AT&T csv einlesen\n",
    "df_att = pd.read_csv('T.csv', index_col = 0)\n",
    "# Feature Volume entfernen\n",
    "df_att.drop(['Volume'], 1, inplace=True)\n",
    "# Feature Close entfernen\n",
    "df_att.drop(['Close'], 1, inplace=True)\n",
    "df_att.head()"
   ]
  },
  {
   "cell_type": "code",
   "execution_count": 12,
   "metadata": {},
   "outputs": [
    {
     "data": {
      "text/html": [
       "<div>\n",
       "<style scoped>\n",
       "    .dataframe tbody tr th:only-of-type {\n",
       "        vertical-align: middle;\n",
       "    }\n",
       "\n",
       "    .dataframe tbody tr th {\n",
       "        vertical-align: top;\n",
       "    }\n",
       "\n",
       "    .dataframe thead th {\n",
       "        text-align: right;\n",
       "    }\n",
       "</style>\n",
       "<table border=\"1\" class=\"dataframe\">\n",
       "  <thead>\n",
       "    <tr style=\"text-align: right;\">\n",
       "      <th></th>\n",
       "      <th>Open</th>\n",
       "      <th>High</th>\n",
       "      <th>Low</th>\n",
       "      <th>Adj Close</th>\n",
       "    </tr>\n",
       "    <tr>\n",
       "      <th>Date</th>\n",
       "      <th></th>\n",
       "      <th></th>\n",
       "      <th></th>\n",
       "      <th></th>\n",
       "    </tr>\n",
       "  </thead>\n",
       "  <tbody>\n",
       "    <tr>\n",
       "      <th>2015-12-16</th>\n",
       "      <td>0.435882</td>\n",
       "      <td>0.446796</td>\n",
       "      <td>0.453333</td>\n",
       "      <td>0.140581</td>\n",
       "    </tr>\n",
       "    <tr>\n",
       "      <th>2015-12-17</th>\n",
       "      <td>0.465882</td>\n",
       "      <td>0.454439</td>\n",
       "      <td>0.460869</td>\n",
       "      <td>0.119136</td>\n",
       "    </tr>\n",
       "    <tr>\n",
       "      <th>2015-12-18</th>\n",
       "      <td>0.433529</td>\n",
       "      <td>0.418577</td>\n",
       "      <td>0.435942</td>\n",
       "      <td>0.094212</td>\n",
       "    </tr>\n",
       "    <tr>\n",
       "      <th>2015-12-21</th>\n",
       "      <td>0.436470</td>\n",
       "      <td>0.425044</td>\n",
       "      <td>0.444638</td>\n",
       "      <td>0.122613</td>\n",
       "    </tr>\n",
       "    <tr>\n",
       "      <th>2015-12-22</th>\n",
       "      <td>0.458235</td>\n",
       "      <td>0.446796</td>\n",
       "      <td>0.459710</td>\n",
       "      <td>0.141160</td>\n",
       "    </tr>\n",
       "  </tbody>\n",
       "</table>\n",
       "</div>"
      ],
      "text/plain": [
       "                Open      High       Low  Adj Close\n",
       "Date                                               \n",
       "2015-12-16  0.435882  0.446796  0.453333   0.140581\n",
       "2015-12-17  0.465882  0.454439  0.460869   0.119136\n",
       "2015-12-18  0.433529  0.418577  0.435942   0.094212\n",
       "2015-12-21  0.436470  0.425044  0.444638   0.122613\n",
       "2015-12-22  0.458235  0.446796  0.459710   0.141160"
      ]
     },
     "execution_count": 12,
     "metadata": {},
     "output_type": "execute_result"
    }
   ],
   "source": [
    "df_att = normalize_data(df_att)\n",
    "df_att.head()"
   ]
  },
  {
   "cell_type": "markdown",
   "metadata": {},
   "source": [
    "### Denormalize Data"
   ]
  },
  {
   "cell_type": "code",
   "execution_count": 13,
   "metadata": {},
   "outputs": [],
   "source": [
    "# Daten denormalisieren, damit wieder USD Werte entstehen\n",
    "def denormalize(df, normalized_value): \n",
    "    df = df['Adj Close'].values.reshape(-1,1)\n",
    "    normalized_value = normalized_value.reshape(-1,1)\n",
    "    \n",
    "    min_max_scaler = MinMaxScaler()\n",
    "    a = min_max_scaler.fit_transform(df)\n",
    "    new = min_max_scaler.inverse_transform(normalized_value)\n",
    "    return new"
   ]
  },
  {
   "cell_type": "markdown",
   "metadata": {},
   "source": [
    "### Evaluate Model"
   ]
  },
  {
   "cell_type": "code",
   "execution_count": 14,
   "metadata": {},
   "outputs": [],
   "source": [
    "# Das Model (RNN oder LSTM) evaluieren\n",
    "def model_score(model, X_train, y_train, X_test, y_test):\n",
    "    trainScore = model.evaluate(X_train, y_train, verbose=0)\n",
    "    print('Train Score: %.5f MSE (%.2f RMSE)' % (trainScore[0], math.sqrt(trainScore[0])))\n",
    "\n",
    "    testScore = model.evaluate(X_test, y_test, verbose=0)\n",
    "    print('Test Score: %.5f MSE (%.2f RMSE)' % (testScore[0], math.sqrt(testScore[0])))\n",
    "    return trainScore[0], testScore[0]"
   ]
  },
  {
   "cell_type": "markdown",
   "metadata": {},
   "source": [
    "## Arbeitspaket 3: RNN"
   ]
  },
  {
   "cell_type": "markdown",
   "metadata": {},
   "source": [
    "### Build Model"
   ]
  },
  {
   "cell_type": "code",
   "execution_count": 15,
   "metadata": {},
   "outputs": [],
   "source": [
    "# Hier wird das neuronale Netz mit seinen Schichten gebaut\n",
    "def build_model_rnn(layers):\n",
    "    d = 0.3\n",
    "    model = Sequential()\n",
    "    \n",
    "    # LSTM durch SimpleRNN ersetzt (siehe Quelle)\n",
    "    model.add(SimpleRNN(256, input_shape=(layers[1], layers[0]), return_sequences=True))\n",
    "    model.add(Dropout(d))\n",
    "    \n",
    "    # LSTM durch SimpleRNN ersetzt (siehe Quelle)\n",
    "    model.add(SimpleRNN(256, input_shape=(layers[1], layers[0]), return_sequences=False))\n",
    "    model.add(Dropout(d))\n",
    "        \n",
    "    model.add(Dense(32,kernel_initializer=\"uniform\",activation='relu'))        \n",
    "    model.add(Dense(1,kernel_initializer=\"uniform\",activation='linear'))\n",
    "\n",
    "        \n",
    "    start = time.time()\n",
    "    model.compile(loss='mse',optimizer='adam', metrics=['accuracy'])\n",
    "    print(\"Compilation Time : \", time.time() - start)\n",
    "    return model"
   ]
  },
  {
   "cell_type": "code",
   "execution_count": 16,
   "metadata": {
    "scrolled": false
   },
   "outputs": [
    {
     "name": "stdout",
     "output_type": "stream",
     "text": [
      "[[0.04576853 0.04414991 0.04467816 0.04058979]\n",
      " [0.04783212 0.04471483 0.0450942  0.03578986]\n",
      " [0.04107656 0.03878326 0.03776724 0.02978991]\n",
      " [0.03753584 0.03411191 0.03721253 0.03243393]\n",
      " [0.03779651 0.03487235 0.0392465  0.03223055]\n",
      " [0.03751411 0.03732754 0.04098    0.03503731]\n",
      " [0.04127205 0.03765345 0.0427135  0.03385764]\n",
      " [0.03820922 0.03480718 0.03862244 0.03139665]\n",
      " [0.03684073 0.03858773 0.04019415 0.03530169]\n",
      " [0.04035972 0.03700162 0.04093378 0.03241357]\n",
      " [0.03694935 0.03337317 0.03547902 0.02822379]\n",
      " [0.02739161 0.02976644 0.02896105 0.02840686]\n",
      " [0.03421236 0.03080934 0.02990871 0.02303741]\n",
      " [0.02293856 0.02324824 0.02403792 0.0189493 ]\n",
      " [0.01885481 0.01838131 0.01608691 0.01030525]\n",
      " [0.01857243 0.01616513 0.01684966 0.01134261]\n",
      " [0.01948475 0.01605648 0.01819021 0.01453578]\n",
      " [0.02291686 0.01959805 0.02165722 0.01744421]\n",
      " [0.02241724 0.02068442 0.01809778 0.01221712]\n",
      " [0.01729082 0.01914178 0.01449207 0.01654927]\n",
      " [0.01346771 0.0131233  0.01361378 0.01168829]\n",
      " [0.01826832 0.01516567 0.01393736 0.01073242]] 0.010996823021384522\n"
     ]
    }
   ],
   "source": [
    "# window haben wir einfach aus dem Beispiel übernommen\n",
    "window = 22\n",
    "# Methode von oben aufrufen\n",
    "X_train, y_train, X_test, y_test = load_data(df_apple, window)\n",
    "print (X_train[0], y_train[0])"
   ]
  },
  {
   "cell_type": "code",
   "execution_count": 17,
   "metadata": {
    "scrolled": true
   },
   "outputs": [
    {
     "name": "stdout",
     "output_type": "stream",
     "text": [
      "Compilation Time :  0.005764961242675781\n"
     ]
    }
   ],
   "source": [
    "# Methode von oben aufrufen\n",
    "model_rnn = build_model_rnn([4,window,1]) "
   ]
  },
  {
   "cell_type": "markdown",
   "metadata": {},
   "source": [
    "### Fit Model"
   ]
  },
  {
   "cell_type": "code",
   "execution_count": 18,
   "metadata": {
    "scrolled": true
   },
   "outputs": [
    {
     "name": "stdout",
     "output_type": "stream",
     "text": [
      "Epoch 1/90\n",
      "2/2 [==============================] - 2s 704ms/step - loss: 0.0328 - accuracy: 6.6667e-04 - val_loss: 0.0557 - val_accuracy: 0.0000e+00\n",
      "Epoch 2/90\n",
      "2/2 [==============================] - 0s 140ms/step - loss: 0.0073 - accuracy: 6.6667e-04 - val_loss: 0.1378 - val_accuracy: 0.0000e+00\n",
      "Epoch 3/90\n",
      "2/2 [==============================] - 0s 144ms/step - loss: 0.0215 - accuracy: 6.6667e-04 - val_loss: 0.0340 - val_accuracy: 0.0000e+00\n",
      "Epoch 4/90\n",
      "2/2 [==============================] - 0s 142ms/step - loss: 0.0071 - accuracy: 0.0013 - val_loss: 0.0674 - val_accuracy: 0.0000e+00\n",
      "Epoch 5/90\n",
      "2/2 [==============================] - 0s 144ms/step - loss: 0.0050 - accuracy: 0.0013 - val_loss: 0.0741 - val_accuracy: 0.0000e+00\n",
      "Epoch 6/90\n",
      "2/2 [==============================] - 0s 142ms/step - loss: 0.0049 - accuracy: 0.0013 - val_loss: 0.0411 - val_accuracy: 0.0000e+00\n",
      "Epoch 7/90\n",
      "2/2 [==============================] - 0s 140ms/step - loss: 0.0034 - accuracy: 6.6667e-04 - val_loss: 0.0346 - val_accuracy: 0.0000e+00\n",
      "Epoch 8/90\n",
      "2/2 [==============================] - 0s 141ms/step - loss: 0.0027 - accuracy: 6.6667e-04 - val_loss: 0.0432 - val_accuracy: 0.0000e+00\n",
      "Epoch 9/90\n",
      "2/2 [==============================] - 0s 137ms/step - loss: 0.0024 - accuracy: 0.0013 - val_loss: 0.0250 - val_accuracy: 0.0000e+00\n",
      "Epoch 10/90\n",
      "2/2 [==============================] - 0s 134ms/step - loss: 0.0018 - accuracy: 0.0013 - val_loss: 0.0266 - val_accuracy: 0.0000e+00\n",
      "Epoch 11/90\n",
      "2/2 [==============================] - 0s 140ms/step - loss: 0.0015 - accuracy: 6.6667e-04 - val_loss: 0.0168 - val_accuracy: 0.0000e+00\n",
      "Epoch 12/90\n",
      "2/2 [==============================] - 0s 143ms/step - loss: 0.0014 - accuracy: 6.6667e-04 - val_loss: 0.0157 - val_accuracy: 0.0000e+00\n",
      "Epoch 13/90\n",
      "2/2 [==============================] - 0s 146ms/step - loss: 0.0012 - accuracy: 0.0013 - val_loss: 0.0117 - val_accuracy: 0.0000e+00\n",
      "Epoch 14/90\n",
      "2/2 [==============================] - 0s 140ms/step - loss: 8.2386e-04 - accuracy: 6.6667e-04 - val_loss: 0.0080 - val_accuracy: 0.0000e+00\n",
      "Epoch 15/90\n",
      "2/2 [==============================] - 0s 161ms/step - loss: 9.2199e-04 - accuracy: 6.6667e-04 - val_loss: 0.0084 - val_accuracy: 0.0000e+00\n",
      "Epoch 16/90\n",
      "2/2 [==============================] - 0s 148ms/step - loss: 8.6010e-04 - accuracy: 6.6667e-04 - val_loss: 0.0041 - val_accuracy: 0.0000e+00\n",
      "Epoch 17/90\n",
      "2/2 [==============================] - 0s 140ms/step - loss: 8.3380e-04 - accuracy: 6.6667e-04 - val_loss: 0.0065 - val_accuracy: 0.0000e+00\n",
      "Epoch 18/90\n",
      "2/2 [==============================] - 0s 138ms/step - loss: 8.2026e-04 - accuracy: 0.0013 - val_loss: 0.0039 - val_accuracy: 0.0000e+00\n",
      "Epoch 19/90\n",
      "2/2 [==============================] - 0s 144ms/step - loss: 7.2003e-04 - accuracy: 0.0013 - val_loss: 0.0050 - val_accuracy: 0.0000e+00\n",
      "Epoch 20/90\n",
      "2/2 [==============================] - 0s 146ms/step - loss: 6.5258e-04 - accuracy: 6.6667e-04 - val_loss: 0.0038 - val_accuracy: 0.0000e+00\n",
      "Epoch 21/90\n",
      "2/2 [==============================] - 0s 141ms/step - loss: 5.5284e-04 - accuracy: 6.6667e-04 - val_loss: 0.0031 - val_accuracy: 0.0000e+00\n",
      "Epoch 22/90\n",
      "2/2 [==============================] - 0s 147ms/step - loss: 5.2598e-04 - accuracy: 0.0013 - val_loss: 0.0032 - val_accuracy: 0.0000e+00\n",
      "Epoch 23/90\n",
      "2/2 [==============================] - 0s 141ms/step - loss: 5.0786e-04 - accuracy: 6.6667e-04 - val_loss: 0.0028 - val_accuracy: 0.0000e+00\n",
      "Epoch 24/90\n",
      "2/2 [==============================] - 0s 143ms/step - loss: 4.8068e-04 - accuracy: 0.0013 - val_loss: 0.0030 - val_accuracy: 0.0000e+00\n",
      "Epoch 25/90\n",
      "2/2 [==============================] - 0s 143ms/step - loss: 4.6991e-04 - accuracy: 0.0013 - val_loss: 0.0023 - val_accuracy: 0.0000e+00\n",
      "Epoch 26/90\n",
      "2/2 [==============================] - 0s 148ms/step - loss: 4.6065e-04 - accuracy: 0.0013 - val_loss: 0.0025 - val_accuracy: 0.0000e+00\n",
      "Epoch 27/90\n",
      "2/2 [==============================] - 0s 151ms/step - loss: 4.3915e-04 - accuracy: 6.6667e-04 - val_loss: 0.0022 - val_accuracy: 0.0000e+00\n",
      "Epoch 28/90\n",
      "2/2 [==============================] - 0s 152ms/step - loss: 4.1730e-04 - accuracy: 0.0013 - val_loss: 0.0026 - val_accuracy: 0.0000e+00\n",
      "Epoch 29/90\n",
      "2/2 [==============================] - 0s 145ms/step - loss: 4.3409e-04 - accuracy: 0.0013 - val_loss: 0.0021 - val_accuracy: 0.0000e+00\n",
      "Epoch 30/90\n",
      "2/2 [==============================] - 0s 138ms/step - loss: 4.3397e-04 - accuracy: 0.0013 - val_loss: 0.0023 - val_accuracy: 0.0000e+00\n",
      "Epoch 31/90\n",
      "2/2 [==============================] - 0s 140ms/step - loss: 3.7073e-04 - accuracy: 6.6667e-04 - val_loss: 0.0020 - val_accuracy: 0.0000e+00\n",
      "Epoch 32/90\n",
      "2/2 [==============================] - 0s 140ms/step - loss: 3.6370e-04 - accuracy: 0.0013 - val_loss: 0.0023 - val_accuracy: 0.0000e+00\n",
      "Epoch 33/90\n",
      "2/2 [==============================] - 0s 146ms/step - loss: 4.1318e-04 - accuracy: 6.6667e-04 - val_loss: 0.0019 - val_accuracy: 0.0000e+00\n",
      "Epoch 34/90\n",
      "2/2 [==============================] - 0s 142ms/step - loss: 4.2771e-04 - accuracy: 0.0013 - val_loss: 0.0027 - val_accuracy: 0.0000e+00\n",
      "Epoch 35/90\n",
      "2/2 [==============================] - 0s 139ms/step - loss: 4.5062e-04 - accuracy: 6.6667e-04 - val_loss: 0.0019 - val_accuracy: 0.0000e+00\n",
      "Epoch 36/90\n",
      "2/2 [==============================] - 0s 137ms/step - loss: 4.5241e-04 - accuracy: 0.0013 - val_loss: 0.0025 - val_accuracy: 0.0000e+00\n",
      "Epoch 37/90\n",
      "2/2 [==============================] - 0s 139ms/step - loss: 3.3771e-04 - accuracy: 6.6667e-04 - val_loss: 0.0020 - val_accuracy: 0.0000e+00\n",
      "Epoch 38/90\n",
      "2/2 [==============================] - 0s 140ms/step - loss: 3.3913e-04 - accuracy: 0.0013 - val_loss: 0.0024 - val_accuracy: 0.0000e+00\n",
      "Epoch 39/90\n",
      "2/2 [==============================] - 0s 139ms/step - loss: 3.7734e-04 - accuracy: 0.0013 - val_loss: 0.0019 - val_accuracy: 0.0000e+00\n",
      "Epoch 40/90\n",
      "2/2 [==============================] - 0s 137ms/step - loss: 3.6636e-04 - accuracy: 6.6667e-04 - val_loss: 0.0020 - val_accuracy: 0.0000e+00\n",
      "Epoch 41/90\n",
      "2/2 [==============================] - 0s 135ms/step - loss: 3.4296e-04 - accuracy: 0.0013 - val_loss: 0.0018 - val_accuracy: 0.0000e+00\n",
      "Epoch 42/90\n",
      "2/2 [==============================] - 0s 143ms/step - loss: 3.0653e-04 - accuracy: 0.0013 - val_loss: 0.0019 - val_accuracy: 0.0000e+00\n",
      "Epoch 43/90\n",
      "2/2 [==============================] - 0s 137ms/step - loss: 3.0968e-04 - accuracy: 6.6667e-04 - val_loss: 0.0019 - val_accuracy: 0.0000e+00\n",
      "Epoch 44/90\n",
      "2/2 [==============================] - 0s 136ms/step - loss: 3.2614e-04 - accuracy: 6.6667e-04 - val_loss: 0.0019 - val_accuracy: 0.0000e+00\n",
      "Epoch 45/90\n",
      "2/2 [==============================] - 0s 187ms/step - loss: 3.4931e-04 - accuracy: 6.6667e-04 - val_loss: 0.0020 - val_accuracy: 0.0000e+00\n",
      "Epoch 46/90\n",
      "2/2 [==============================] - 0s 177ms/step - loss: 3.1539e-04 - accuracy: 6.6667e-04 - val_loss: 0.0018 - val_accuracy: 0.0000e+00\n",
      "Epoch 47/90\n",
      "2/2 [==============================] - 0s 150ms/step - loss: 2.9850e-04 - accuracy: 6.6667e-04 - val_loss: 0.0018 - val_accuracy: 0.0000e+00\n",
      "Epoch 48/90\n",
      "2/2 [==============================] - 0s 145ms/step - loss: 2.9015e-04 - accuracy: 6.6667e-04 - val_loss: 0.0018 - val_accuracy: 0.0000e+00\n",
      "Epoch 49/90\n",
      "2/2 [==============================] - 0s 145ms/step - loss: 2.8229e-04 - accuracy: 0.0013 - val_loss: 0.0017 - val_accuracy: 0.0000e+00\n",
      "Epoch 50/90\n",
      "2/2 [==============================] - 0s 144ms/step - loss: 2.8158e-04 - accuracy: 6.6667e-04 - val_loss: 0.0016 - val_accuracy: 0.0000e+00\n",
      "Epoch 51/90\n",
      "2/2 [==============================] - 0s 139ms/step - loss: 2.5344e-04 - accuracy: 6.6667e-04 - val_loss: 0.0018 - val_accuracy: 0.0000e+00\n",
      "Epoch 52/90\n",
      "2/2 [==============================] - 0s 144ms/step - loss: 3.0529e-04 - accuracy: 6.6667e-04 - val_loss: 0.0015 - val_accuracy: 0.0000e+00\n",
      "Epoch 53/90\n",
      "2/2 [==============================] - 0s 149ms/step - loss: 3.0134e-04 - accuracy: 0.0013 - val_loss: 0.0018 - val_accuracy: 0.0000e+00\n",
      "Epoch 54/90\n",
      "2/2 [==============================] - 0s 144ms/step - loss: 2.9318e-04 - accuracy: 6.6667e-04 - val_loss: 0.0015 - val_accuracy: 0.0000e+00\n",
      "Epoch 55/90\n"
     ]
    },
    {
     "name": "stdout",
     "output_type": "stream",
     "text": [
      "2/2 [==============================] - 0s 141ms/step - loss: 3.0511e-04 - accuracy: 0.0013 - val_loss: 0.0016 - val_accuracy: 0.0000e+00\n",
      "Epoch 56/90\n",
      "2/2 [==============================] - 0s 142ms/step - loss: 2.8149e-04 - accuracy: 6.6667e-04 - val_loss: 0.0016 - val_accuracy: 0.0000e+00\n",
      "Epoch 57/90\n",
      "2/2 [==============================] - 0s 141ms/step - loss: 2.7260e-04 - accuracy: 0.0013 - val_loss: 0.0016 - val_accuracy: 0.0000e+00\n",
      "Epoch 58/90\n",
      "2/2 [==============================] - 0s 144ms/step - loss: 2.7704e-04 - accuracy: 0.0013 - val_loss: 0.0015 - val_accuracy: 0.0000e+00\n",
      "Epoch 59/90\n",
      "2/2 [==============================] - 0s 143ms/step - loss: 2.5453e-04 - accuracy: 0.0013 - val_loss: 0.0017 - val_accuracy: 0.0000e+00\n",
      "Epoch 60/90\n",
      "2/2 [==============================] - 0s 141ms/step - loss: 2.6351e-04 - accuracy: 6.6667e-04 - val_loss: 0.0015 - val_accuracy: 0.0000e+00\n",
      "Epoch 61/90\n",
      "2/2 [==============================] - 0s 144ms/step - loss: 2.7648e-04 - accuracy: 0.0013 - val_loss: 0.0016 - val_accuracy: 0.0000e+00\n",
      "Epoch 62/90\n",
      "2/2 [==============================] - 0s 147ms/step - loss: 2.6330e-04 - accuracy: 0.0013 - val_loss: 0.0017 - val_accuracy: 0.0000e+00\n",
      "Epoch 63/90\n",
      "2/2 [==============================] - 0s 142ms/step - loss: 2.8756e-04 - accuracy: 6.6667e-04 - val_loss: 0.0015 - val_accuracy: 0.0000e+00\n",
      "Epoch 64/90\n",
      "2/2 [==============================] - 0s 147ms/step - loss: 2.8766e-04 - accuracy: 6.6667e-04 - val_loss: 0.0022 - val_accuracy: 0.0000e+00\n",
      "Epoch 65/90\n",
      "2/2 [==============================] - 0s 147ms/step - loss: 3.1051e-04 - accuracy: 0.0013 - val_loss: 0.0015 - val_accuracy: 0.0000e+00\n",
      "Epoch 66/90\n",
      "2/2 [==============================] - 0s 187ms/step - loss: 2.9370e-04 - accuracy: 6.6667e-04 - val_loss: 0.0015 - val_accuracy: 0.0000e+00\n",
      "Epoch 67/90\n",
      "2/2 [==============================] - 0s 144ms/step - loss: 2.7468e-04 - accuracy: 6.6667e-04 - val_loss: 0.0017 - val_accuracy: 0.0000e+00\n",
      "Epoch 68/90\n",
      "2/2 [==============================] - 0s 187ms/step - loss: 3.0022e-04 - accuracy: 6.6667e-04 - val_loss: 0.0017 - val_accuracy: 0.0000e+00\n",
      "Epoch 69/90\n",
      "2/2 [==============================] - 0s 144ms/step - loss: 2.6849e-04 - accuracy: 6.6667e-04 - val_loss: 0.0016 - val_accuracy: 0.0000e+00\n",
      "Epoch 70/90\n",
      "2/2 [==============================] - 0s 144ms/step - loss: 2.5067e-04 - accuracy: 0.0013 - val_loss: 0.0014 - val_accuracy: 0.0000e+00\n",
      "Epoch 71/90\n",
      "2/2 [==============================] - 0s 148ms/step - loss: 2.5299e-04 - accuracy: 6.6667e-04 - val_loss: 0.0015 - val_accuracy: 0.0000e+00\n",
      "Epoch 72/90\n",
      "2/2 [==============================] - 0s 143ms/step - loss: 2.4153e-04 - accuracy: 6.6667e-04 - val_loss: 0.0022 - val_accuracy: 0.0000e+00\n",
      "Epoch 73/90\n",
      "2/2 [==============================] - 0s 141ms/step - loss: 3.0732e-04 - accuracy: 0.0013 - val_loss: 0.0013 - val_accuracy: 0.0000e+00\n",
      "Epoch 74/90\n",
      "2/2 [==============================] - 0s 144ms/step - loss: 2.9070e-04 - accuracy: 0.0013 - val_loss: 0.0015 - val_accuracy: 0.0000e+00\n",
      "Epoch 75/90\n",
      "2/2 [==============================] - 0s 140ms/step - loss: 2.7664e-04 - accuracy: 0.0013 - val_loss: 0.0014 - val_accuracy: 0.0000e+00\n",
      "Epoch 76/90\n",
      "2/2 [==============================] - 0s 144ms/step - loss: 2.6669e-04 - accuracy: 6.6667e-04 - val_loss: 0.0015 - val_accuracy: 0.0000e+00\n",
      "Epoch 77/90\n",
      "2/2 [==============================] - 0s 142ms/step - loss: 2.8503e-04 - accuracy: 0.0013 - val_loss: 0.0019 - val_accuracy: 0.0000e+00\n",
      "Epoch 78/90\n",
      "2/2 [==============================] - 0s 141ms/step - loss: 2.8939e-04 - accuracy: 0.0013 - val_loss: 0.0013 - val_accuracy: 0.0000e+00\n",
      "Epoch 79/90\n",
      "2/2 [==============================] - 0s 137ms/step - loss: 2.8165e-04 - accuracy: 0.0013 - val_loss: 0.0016 - val_accuracy: 0.0000e+00\n",
      "Epoch 80/90\n",
      "2/2 [==============================] - 0s 139ms/step - loss: 2.7043e-04 - accuracy: 6.6667e-04 - val_loss: 0.0013 - val_accuracy: 0.0000e+00\n",
      "Epoch 81/90\n",
      "2/2 [==============================] - 0s 137ms/step - loss: 2.6941e-04 - accuracy: 6.6667e-04 - val_loss: 0.0020 - val_accuracy: 0.0000e+00\n",
      "Epoch 82/90\n",
      "2/2 [==============================] - 0s 138ms/step - loss: 3.2228e-04 - accuracy: 0.0013 - val_loss: 0.0013 - val_accuracy: 0.0000e+00\n",
      "Epoch 83/90\n",
      "2/2 [==============================] - 0s 138ms/step - loss: 2.8070e-04 - accuracy: 0.0013 - val_loss: 0.0015 - val_accuracy: 0.0000e+00\n",
      "Epoch 84/90\n",
      "2/2 [==============================] - 0s 138ms/step - loss: 2.4361e-04 - accuracy: 0.0013 - val_loss: 0.0012 - val_accuracy: 0.0000e+00\n",
      "Epoch 85/90\n",
      "2/2 [==============================] - 0s 137ms/step - loss: 2.7794e-04 - accuracy: 6.6667e-04 - val_loss: 0.0014 - val_accuracy: 0.0000e+00\n",
      "Epoch 86/90\n",
      "2/2 [==============================] - 0s 140ms/step - loss: 2.1222e-04 - accuracy: 6.6667e-04 - val_loss: 0.0013 - val_accuracy: 0.0000e+00\n",
      "Epoch 87/90\n",
      "2/2 [==============================] - 0s 137ms/step - loss: 2.4385e-04 - accuracy: 6.6667e-04 - val_loss: 0.0013 - val_accuracy: 0.0000e+00\n",
      "Epoch 88/90\n",
      "2/2 [==============================] - 0s 138ms/step - loss: 2.1524e-04 - accuracy: 0.0013 - val_loss: 0.0015 - val_accuracy: 0.0000e+00\n",
      "Epoch 89/90\n",
      "2/2 [==============================] - 0s 136ms/step - loss: 2.4556e-04 - accuracy: 6.6667e-04 - val_loss: 0.0012 - val_accuracy: 0.0000e+00\n",
      "Epoch 90/90\n",
      "2/2 [==============================] - 0s 134ms/step - loss: 2.4290e-04 - accuracy: 0.0013 - val_loss: 0.0015 - val_accuracy: 0.0000e+00\n"
     ]
    },
    {
     "data": {
      "text/plain": [
       "<tensorflow.python.keras.callbacks.History at 0x7f80309092e0>"
      ]
     },
     "execution_count": 18,
     "metadata": {},
     "output_type": "execute_result"
    }
   ],
   "source": [
    "model_rnn.fit(X_train,y_train,batch_size=512,epochs=90,validation_split=0.1,verbose=1)"
   ]
  },
  {
   "cell_type": "code",
   "execution_count": 19,
   "metadata": {},
   "outputs": [
    {
     "name": "stdout",
     "output_type": "stream",
     "text": [
      "(124, 1)\n"
     ]
    }
   ],
   "source": [
    "# copy pasted -> ist das relevant?? Frage an Herr Kohl\n",
    "\n",
    "# print(X_test[-1])\n",
    "diff=[]\n",
    "ratio=[]\n",
    "p_rnn = model_rnn.predict(X_test)\n",
    "print(p_rnn.shape)\n",
    "# for each data index in test data\n",
    "for u in range(len(y_test)):\n",
    "    # pr = prediction day u\n",
    "    pr = p_rnn[u][0]\n",
    "    # (y_test day u / pr) - 1\n",
    "    ratio.append((y_test[u]/pr)-1)\n",
    "    diff.append(abs(y_test[u]- pr))\n",
    "    # print(u, y_test[u], pr, (y_test[u]/pr)-1, abs(y_test[u]- pr))\n",
    "    # Last day prediction\n",
    "    # print(p[-1])"
   ]
  },
  {
   "cell_type": "markdown",
   "metadata": {},
   "source": [
    "### Denormalize Data"
   ]
  },
  {
   "cell_type": "code",
   "execution_count": 20,
   "metadata": {},
   "outputs": [],
   "source": [
    "# Methode von oben aufrufen\n",
    "newp_rnn = denormalize(df_apple, p_rnn)\n",
    "newy_test = denormalize(df_apple, y_test)"
   ]
  },
  {
   "cell_type": "markdown",
   "metadata": {},
   "source": [
    "### Evaluate Data"
   ]
  },
  {
   "cell_type": "code",
   "execution_count": 21,
   "metadata": {
    "scrolled": true
   },
   "outputs": [
    {
     "name": "stdout",
     "output_type": "stream",
     "text": [
      "Train Score: 0.00025 MSE (0.02 RMSE)\n",
      "Test Score: 0.05791 MSE (0.24 RMSE)\n"
     ]
    },
    {
     "data": {
      "text/plain": [
       "(0.00025373659445904195, 0.05791497975587845)"
      ]
     },
     "execution_count": 21,
     "metadata": {},
     "output_type": "execute_result"
    }
   ],
   "source": [
    "# Methode von oben aufrufen\n",
    "model_score(model_rnn, X_train, y_train, X_test, y_test)"
   ]
  },
  {
   "cell_type": "markdown",
   "metadata": {},
   "source": [
    "### Visualization\n"
   ]
  },
  {
   "cell_type": "code",
   "execution_count": 22,
   "metadata": {},
   "outputs": [
    {
     "data": {
      "image/png": "[encoded data removed]",
      "text/plain": [
       "<Figure size 432x288 with 1 Axes>"
      ]
     },
     "metadata": {
      "needs_background": "light"
     },
     "output_type": "display_data"
    }
   ],
   "source": [
    "# copy paste\n",
    "plt.plot(newp_rnn,color='red', label='Prediction')\n",
    "plt.plot(newy_test,color='blue', label='Actual')\n",
    "plt.legend(loc='best')\n",
    "plt.show()"
   ]
  },
  {
   "cell_type": "markdown",
   "metadata": {},
   "source": [
    "## Tuning"
   ]
  },
  {
   "cell_type": "markdown",
   "metadata": {},
   "source": [
    "- Anzahl Layer\n",
    "- Parameter\n",
    "- Anzahl Trainingsdurchläufe"
   ]
  },
  {
   "cell_type": "markdown",
   "metadata": {},
   "source": [
    "### Build Model"
   ]
  },
  {
   "cell_type": "markdown",
   "metadata": {},
   "source": [
    "### Fit Model"
   ]
  },
  {
   "cell_type": "markdown",
   "metadata": {},
   "source": [
    "### Denormalize Data"
   ]
  },
  {
   "cell_type": "markdown",
   "metadata": {},
   "source": [
    "### Evaluate Data"
   ]
  },
  {
   "cell_type": "markdown",
   "metadata": {},
   "source": [
    "### Visualization\n"
   ]
  },
  {
   "cell_type": "markdown",
   "metadata": {},
   "source": [
    "## Arbeitspaket 4: LSTM"
   ]
  },
  {
   "cell_type": "markdown",
   "metadata": {},
   "source": [
    "### Build Model"
   ]
  },
  {
   "cell_type": "code",
   "execution_count": 23,
   "metadata": {},
   "outputs": [],
   "source": [
    "# Hier wird das neuronale Netz mit seinen Schichten gebaut\n",
    "def build_model_lstm(layers):\n",
    "    d = 0.3\n",
    "    model = Sequential()\n",
    "    \n",
    "    model.add(LSTM(256, input_shape=(layers[1], layers[0]), return_sequences=True))\n",
    "    model.add(Dropout(d))\n",
    "        \n",
    "    model.add(LSTM(256, input_shape=(layers[1], layers[0]), return_sequences=False))\n",
    "    model.add(Dropout(d))\n",
    "        \n",
    "    model.add(Dense(32,kernel_initializer=\"uniform\",activation='relu'))        \n",
    "    model.add(Dense(1,kernel_initializer=\"uniform\",activation='linear'))\n",
    "\n",
    "        \n",
    "    start = time.time()\n",
    "    model.compile(loss='mse',optimizer='adam', metrics=['accuracy'])\n",
    "    print(\"Compilation Time : \", time.time() - start)\n",
    "    return model"
   ]
  },
  {
   "cell_type": "code",
   "execution_count": 24,
   "metadata": {
    "scrolled": false
   },
   "outputs": [
    {
     "name": "stdout",
     "output_type": "stream",
     "text": [
      "[[0.04576853 0.04414991 0.04467816 0.04058979]\n",
      " [0.04783212 0.04471483 0.0450942  0.03578986]\n",
      " [0.04107656 0.03878326 0.03776724 0.02978991]\n",
      " [0.03753584 0.03411191 0.03721253 0.03243393]\n",
      " [0.03779651 0.03487235 0.0392465  0.03223055]\n",
      " [0.03751411 0.03732754 0.04098    0.03503731]\n",
      " [0.04127205 0.03765345 0.0427135  0.03385764]\n",
      " [0.03820922 0.03480718 0.03862244 0.03139665]\n",
      " [0.03684073 0.03858773 0.04019415 0.03530169]\n",
      " [0.04035972 0.03700162 0.04093378 0.03241357]\n",
      " [0.03694935 0.03337317 0.03547902 0.02822379]\n",
      " [0.02739161 0.02976644 0.02896105 0.02840686]\n",
      " [0.03421236 0.03080934 0.02990871 0.02303741]\n",
      " [0.02293856 0.02324824 0.02403792 0.0189493 ]\n",
      " [0.01885481 0.01838131 0.01608691 0.01030525]\n",
      " [0.01857243 0.01616513 0.01684966 0.01134261]\n",
      " [0.01948475 0.01605648 0.01819021 0.01453578]\n",
      " [0.02291686 0.01959805 0.02165722 0.01744421]\n",
      " [0.02241724 0.02068442 0.01809778 0.01221712]\n",
      " [0.01729082 0.01914178 0.01449207 0.01654927]\n",
      " [0.01346771 0.0131233  0.01361378 0.01168829]\n",
      " [0.01826832 0.01516567 0.01393736 0.01073242]] 0.010996823021384522\n",
      "1112\n"
     ]
    }
   ],
   "source": [
    "# window haben wir einfach aus dem Beispiel übernommen\n",
    "window = 22\n",
    "# Methode von oben aufrufen\n",
    "X_train, y_train, X_test, y_test = load_data(df_apple, window)\n",
    "print (X_train[0], y_train[0])\n",
    "print(len(X_train))"
   ]
  },
  {
   "cell_type": "code",
   "execution_count": 25,
   "metadata": {
    "scrolled": true
   },
   "outputs": [
    {
     "name": "stdout",
     "output_type": "stream",
     "text": [
      "Compilation Time :  0.003553152084350586\n"
     ]
    }
   ],
   "source": [
    "# Methode von oben aufrufen\n",
    "model_lstm = build_model_lstm([4,window,1]) "
   ]
  },
  {
   "cell_type": "markdown",
   "metadata": {},
   "source": [
    "### Fit Model"
   ]
  },
  {
   "cell_type": "code",
   "execution_count": 26,
   "metadata": {
    "scrolled": true
   },
   "outputs": [
    {
     "name": "stdout",
     "output_type": "stream",
     "text": [
      "Epoch 1/90\n",
      "2/2 [==============================] - 3s 861ms/step - loss: 0.0373 - accuracy: 0.0013 - val_loss: 0.2144 - val_accuracy: 0.0000e+00\n",
      "Epoch 2/90\n",
      "2/2 [==============================] - 1s 371ms/step - loss: 0.0344 - accuracy: 6.6667e-04 - val_loss: 0.1906 - val_accuracy: 0.0000e+00\n",
      "Epoch 3/90\n",
      "2/2 [==============================] - 1s 366ms/step - loss: 0.0291 - accuracy: 0.0013 - val_loss: 0.1269 - val_accuracy: 0.0000e+00\n",
      "Epoch 4/90\n",
      "2/2 [==============================] - 1s 371ms/step - loss: 0.0143 - accuracy: 0.0013 - val_loss: 0.0329 - val_accuracy: 0.0000e+00\n",
      "Epoch 5/90\n",
      "2/2 [==============================] - 1s 383ms/step - loss: 0.0082 - accuracy: 0.0013 - val_loss: 0.0336 - val_accuracy: 0.0000e+00\n",
      "Epoch 6/90\n",
      "2/2 [==============================] - 1s 372ms/step - loss: 0.0065 - accuracy: 6.6667e-04 - val_loss: 0.0645 - val_accuracy: 0.0000e+00\n",
      "Epoch 7/90\n",
      "2/2 [==============================] - 1s 371ms/step - loss: 0.0049 - accuracy: 6.6667e-04 - val_loss: 0.0785 - val_accuracy: 0.0000e+00\n",
      "Epoch 8/90\n",
      "2/2 [==============================] - 1s 368ms/step - loss: 0.0065 - accuracy: 0.0013 - val_loss: 0.0647 - val_accuracy: 0.0000e+00\n",
      "Epoch 9/90\n",
      "2/2 [==============================] - 1s 364ms/step - loss: 0.0041 - accuracy: 0.0013 - val_loss: 0.0411 - val_accuracy: 0.0000e+00\n",
      "Epoch 10/90\n",
      "2/2 [==============================] - 1s 394ms/step - loss: 0.0028 - accuracy: 0.0013 - val_loss: 0.0276 - val_accuracy: 0.0000e+00\n",
      "Epoch 11/90\n",
      "2/2 [==============================] - 1s 362ms/step - loss: 0.0035 - accuracy: 6.6667e-04 - val_loss: 0.0290 - val_accuracy: 0.0000e+00\n",
      "Epoch 12/90\n",
      "2/2 [==============================] - 1s 362ms/step - loss: 0.0017 - accuracy: 0.0013 - val_loss: 0.0368 - val_accuracy: 0.0000e+00\n",
      "Epoch 13/90\n",
      "2/2 [==============================] - 1s 369ms/step - loss: 0.0019 - accuracy: 0.0013 - val_loss: 0.0340 - val_accuracy: 0.0000e+00\n",
      "Epoch 14/90\n",
      "2/2 [==============================] - 1s 375ms/step - loss: 0.0018 - accuracy: 0.0013 - val_loss: 0.0195 - val_accuracy: 0.0000e+00\n",
      "Epoch 15/90\n",
      "2/2 [==============================] - 1s 377ms/step - loss: 9.9441e-04 - accuracy: 0.0013 - val_loss: 0.0109 - val_accuracy: 0.0000e+00\n",
      "Epoch 16/90\n",
      "2/2 [==============================] - 1s 372ms/step - loss: 0.0015 - accuracy: 0.0013 - val_loss: 0.0126 - val_accuracy: 0.0000e+00\n",
      "Epoch 17/90\n",
      "2/2 [==============================] - 1s 367ms/step - loss: 9.1403e-04 - accuracy: 6.6667e-04 - val_loss: 0.0160 - val_accuracy: 0.0000e+00\n",
      "Epoch 18/90\n",
      "2/2 [==============================] - 1s 375ms/step - loss: 0.0013 - accuracy: 6.6667e-04 - val_loss: 0.0101 - val_accuracy: 0.0000e+00\n",
      "Epoch 19/90\n",
      "2/2 [==============================] - 1s 373ms/step - loss: 8.0807e-04 - accuracy: 0.0013 - val_loss: 0.0057 - val_accuracy: 0.0000e+00\n",
      "Epoch 20/90\n",
      "2/2 [==============================] - 1s 381ms/step - loss: 0.0011 - accuracy: 6.6667e-04 - val_loss: 0.0071 - val_accuracy: 0.0000e+00\n",
      "Epoch 21/90\n",
      "2/2 [==============================] - 1s 379ms/step - loss: 7.3686e-04 - accuracy: 0.0013 - val_loss: 0.0097 - val_accuracy: 0.0000e+00\n",
      "Epoch 22/90\n",
      "2/2 [==============================] - 1s 373ms/step - loss: 8.9301e-04 - accuracy: 0.0013 - val_loss: 0.0066 - val_accuracy: 0.0000e+00\n",
      "Epoch 23/90\n",
      "2/2 [==============================] - 1s 375ms/step - loss: 5.5685e-04 - accuracy: 0.0013 - val_loss: 0.0046 - val_accuracy: 0.0000e+00\n",
      "Epoch 24/90\n",
      "2/2 [==============================] - 1s 372ms/step - loss: 7.3580e-04 - accuracy: 6.6667e-04 - val_loss: 0.0062 - val_accuracy: 0.0000e+00\n",
      "Epoch 25/90\n",
      "2/2 [==============================] - 1s 382ms/step - loss: 5.5299e-04 - accuracy: 6.6667e-04 - val_loss: 0.0080 - val_accuracy: 0.0000e+00\n",
      "Epoch 26/90\n",
      "2/2 [==============================] - 1s 379ms/step - loss: 5.9209e-04 - accuracy: 0.0013 - val_loss: 0.0056 - val_accuracy: 0.0000e+00\n",
      "Epoch 27/90\n",
      "2/2 [==============================] - 1s 375ms/step - loss: 4.9454e-04 - accuracy: 6.6667e-04 - val_loss: 0.0041 - val_accuracy: 0.0000e+00\n",
      "Epoch 28/90\n",
      "2/2 [==============================] - 1s 376ms/step - loss: 5.2436e-04 - accuracy: 6.6667e-04 - val_loss: 0.0052 - val_accuracy: 0.0000e+00\n",
      "Epoch 29/90\n",
      "2/2 [==============================] - 1s 376ms/step - loss: 4.8417e-04 - accuracy: 6.6667e-04 - val_loss: 0.0059 - val_accuracy: 0.0000e+00\n",
      "Epoch 30/90\n",
      "2/2 [==============================] - 1s 377ms/step - loss: 5.0158e-04 - accuracy: 0.0013 - val_loss: 0.0038 - val_accuracy: 0.0000e+00\n",
      "Epoch 31/90\n",
      "2/2 [==============================] - 1s 387ms/step - loss: 4.7546e-04 - accuracy: 6.6667e-04 - val_loss: 0.0031 - val_accuracy: 0.0000e+00\n",
      "Epoch 32/90\n",
      "2/2 [==============================] - 1s 379ms/step - loss: 4.4639e-04 - accuracy: 0.0013 - val_loss: 0.0039 - val_accuracy: 0.0000e+00\n",
      "Epoch 33/90\n",
      "2/2 [==============================] - 1s 376ms/step - loss: 4.7737e-04 - accuracy: 0.0013 - val_loss: 0.0033 - val_accuracy: 0.0000e+00\n",
      "Epoch 34/90\n",
      "2/2 [==============================] - 1s 382ms/step - loss: 4.2853e-04 - accuracy: 0.0013 - val_loss: 0.0027 - val_accuracy: 0.0000e+00\n",
      "Epoch 35/90\n",
      "2/2 [==============================] - 1s 378ms/step - loss: 4.7285e-04 - accuracy: 0.0013 - val_loss: 0.0028 - val_accuracy: 0.0000e+00\n",
      "Epoch 36/90\n",
      "2/2 [==============================] - 1s 383ms/step - loss: 3.9723e-04 - accuracy: 6.6667e-04 - val_loss: 0.0028 - val_accuracy: 0.0000e+00\n",
      "Epoch 37/90\n",
      "2/2 [==============================] - 1s 377ms/step - loss: 4.1521e-04 - accuracy: 6.6667e-04 - val_loss: 0.0027 - val_accuracy: 0.0000e+00\n",
      "Epoch 38/90\n",
      "2/2 [==============================] - 1s 380ms/step - loss: 4.2289e-04 - accuracy: 6.6667e-04 - val_loss: 0.0026 - val_accuracy: 0.0000e+00\n",
      "Epoch 39/90\n",
      "2/2 [==============================] - 1s 380ms/step - loss: 3.8608e-04 - accuracy: 0.0013 - val_loss: 0.0027 - val_accuracy: 0.0000e+00\n",
      "Epoch 40/90\n",
      "2/2 [==============================] - 1s 385ms/step - loss: 3.8922e-04 - accuracy: 0.0013 - val_loss: 0.0026 - val_accuracy: 0.0000e+00\n",
      "Epoch 41/90\n",
      "2/2 [==============================] - 1s 382ms/step - loss: 4.0019e-04 - accuracy: 6.6667e-04 - val_loss: 0.0026 - val_accuracy: 0.0000e+00\n",
      "Epoch 42/90\n",
      "2/2 [==============================] - 1s 377ms/step - loss: 3.6315e-04 - accuracy: 6.6667e-04 - val_loss: 0.0025 - val_accuracy: 0.0000e+00\n",
      "Epoch 43/90\n",
      "2/2 [==============================] - 1s 375ms/step - loss: 3.6743e-04 - accuracy: 0.0013 - val_loss: 0.0025 - val_accuracy: 0.0000e+00\n",
      "Epoch 44/90\n",
      "2/2 [==============================] - 1s 378ms/step - loss: 3.7538e-04 - accuracy: 6.6667e-04 - val_loss: 0.0025 - val_accuracy: 0.0000e+00\n",
      "Epoch 45/90\n",
      "2/2 [==============================] - 1s 381ms/step - loss: 3.6538e-04 - accuracy: 6.6667e-04 - val_loss: 0.0025 - val_accuracy: 0.0000e+00\n",
      "Epoch 46/90\n",
      "2/2 [==============================] - 1s 382ms/step - loss: 3.8121e-04 - accuracy: 0.0013 - val_loss: 0.0026 - val_accuracy: 0.0000e+00\n",
      "Epoch 47/90\n",
      "2/2 [==============================] - 1s 379ms/step - loss: 3.7017e-04 - accuracy: 0.0013 - val_loss: 0.0025 - val_accuracy: 0.0000e+00\n",
      "Epoch 48/90\n",
      "2/2 [==============================] - 1s 377ms/step - loss: 3.3949e-04 - accuracy: 6.6667e-04 - val_loss: 0.0024 - val_accuracy: 0.0000e+00\n",
      "Epoch 49/90\n",
      "2/2 [==============================] - 1s 378ms/step - loss: 3.7173e-04 - accuracy: 6.6667e-04 - val_loss: 0.0027 - val_accuracy: 0.0000e+00\n",
      "Epoch 50/90\n",
      "2/2 [==============================] - 1s 380ms/step - loss: 3.6034e-04 - accuracy: 0.0013 - val_loss: 0.0025 - val_accuracy: 0.0000e+00\n",
      "Epoch 51/90\n",
      "2/2 [==============================] - 1s 382ms/step - loss: 3.2766e-04 - accuracy: 6.6667e-04 - val_loss: 0.0024 - val_accuracy: 0.0000e+00\n",
      "Epoch 52/90\n",
      "2/2 [==============================] - 1s 378ms/step - loss: 3.3612e-04 - accuracy: 0.0013 - val_loss: 0.0028 - val_accuracy: 0.0000e+00\n",
      "Epoch 53/90\n",
      "2/2 [==============================] - 1s 382ms/step - loss: 3.6263e-04 - accuracy: 6.6667e-04 - val_loss: 0.0024 - val_accuracy: 0.0000e+00\n",
      "Epoch 54/90\n",
      "2/2 [==============================] - 1s 382ms/step - loss: 3.3919e-04 - accuracy: 0.0013 - val_loss: 0.0024 - val_accuracy: 0.0000e+00\n",
      "Epoch 55/90\n",
      "2/2 [==============================] - 1s 377ms/step - loss: 3.0990e-04 - accuracy: 6.6667e-04 - val_loss: 0.0026 - val_accuracy: 0.0000e+00\n"
     ]
    },
    {
     "name": "stdout",
     "output_type": "stream",
     "text": [
      "Epoch 56/90\n",
      "2/2 [==============================] - 1s 373ms/step - loss: 3.3359e-04 - accuracy: 6.6667e-04 - val_loss: 0.0023 - val_accuracy: 0.0000e+00\n",
      "Epoch 57/90\n",
      "2/2 [==============================] - 1s 381ms/step - loss: 3.3048e-04 - accuracy: 0.0013 - val_loss: 0.0026 - val_accuracy: 0.0000e+00\n",
      "Epoch 58/90\n",
      "2/2 [==============================] - 1s 378ms/step - loss: 3.0792e-04 - accuracy: 0.0013 - val_loss: 0.0024 - val_accuracy: 0.0000e+00\n",
      "Epoch 59/90\n",
      "2/2 [==============================] - 1s 378ms/step - loss: 3.1922e-04 - accuracy: 6.6667e-04 - val_loss: 0.0025 - val_accuracy: 0.0000e+00\n",
      "Epoch 60/90\n",
      "2/2 [==============================] - 1s 378ms/step - loss: 2.9135e-04 - accuracy: 0.0013 - val_loss: 0.0025 - val_accuracy: 0.0000e+00\n",
      "Epoch 61/90\n",
      "2/2 [==============================] - 1s 381ms/step - loss: 3.1477e-04 - accuracy: 0.0013 - val_loss: 0.0029 - val_accuracy: 0.0000e+00\n",
      "Epoch 62/90\n",
      "2/2 [==============================] - 1s 382ms/step - loss: 3.0585e-04 - accuracy: 0.0013 - val_loss: 0.0024 - val_accuracy: 0.0000e+00\n",
      "Epoch 63/90\n",
      "2/2 [==============================] - 1s 397ms/step - loss: 3.2681e-04 - accuracy: 6.6667e-04 - val_loss: 0.0031 - val_accuracy: 0.0000e+00\n",
      "Epoch 64/90\n",
      "2/2 [==============================] - 1s 456ms/step - loss: 3.0507e-04 - accuracy: 6.6667e-04 - val_loss: 0.0025 - val_accuracy: 0.0000e+00\n",
      "Epoch 65/90\n",
      "2/2 [==============================] - 1s 495ms/step - loss: 3.0190e-04 - accuracy: 6.6667e-04 - val_loss: 0.0031 - val_accuracy: 0.0000e+00\n",
      "Epoch 66/90\n",
      "2/2 [==============================] - 1s 522ms/step - loss: 3.1804e-04 - accuracy: 0.0013 - val_loss: 0.0023 - val_accuracy: 0.0000e+00\n",
      "Epoch 67/90\n",
      "2/2 [==============================] - 1s 451ms/step - loss: 3.2559e-04 - accuracy: 6.6667e-04 - val_loss: 0.0036 - val_accuracy: 0.0000e+00\n",
      "Epoch 68/90\n",
      "2/2 [==============================] - 1s 408ms/step - loss: 3.2050e-04 - accuracy: 0.0013 - val_loss: 0.0022 - val_accuracy: 0.0000e+00\n",
      "Epoch 69/90\n",
      "2/2 [==============================] - 1s 471ms/step - loss: 3.6604e-04 - accuracy: 0.0013 - val_loss: 0.0033 - val_accuracy: 0.0000e+00\n",
      "Epoch 70/90\n",
      "2/2 [==============================] - 1s 466ms/step - loss: 2.8124e-04 - accuracy: 0.0013 - val_loss: 0.0022 - val_accuracy: 0.0000e+00\n",
      "Epoch 71/90\n",
      "2/2 [==============================] - 1s 539ms/step - loss: 3.2231e-04 - accuracy: 0.0013 - val_loss: 0.0029 - val_accuracy: 0.0000e+00\n",
      "Epoch 72/90\n",
      "2/2 [==============================] - 1s 409ms/step - loss: 2.9271e-04 - accuracy: 6.6667e-04 - val_loss: 0.0025 - val_accuracy: 0.0000e+00\n",
      "Epoch 73/90\n",
      "2/2 [==============================] - 1s 416ms/step - loss: 2.6804e-04 - accuracy: 0.0013 - val_loss: 0.0023 - val_accuracy: 0.0000e+00\n",
      "Epoch 74/90\n",
      "2/2 [==============================] - 1s 398ms/step - loss: 3.2998e-04 - accuracy: 0.0013 - val_loss: 0.0030 - val_accuracy: 0.0000e+00\n",
      "Epoch 75/90\n",
      "2/2 [==============================] - 1s 476ms/step - loss: 3.0098e-04 - accuracy: 6.6667e-04 - val_loss: 0.0020 - val_accuracy: 0.0000e+00\n",
      "Epoch 76/90\n",
      "2/2 [==============================] - 1s 396ms/step - loss: 2.9577e-04 - accuracy: 0.0013 - val_loss: 0.0025 - val_accuracy: 0.0000e+00\n",
      "Epoch 77/90\n",
      "2/2 [==============================] - 1s 389ms/step - loss: 2.9150e-04 - accuracy: 0.0013 - val_loss: 0.0022 - val_accuracy: 0.0000e+00\n",
      "Epoch 78/90\n",
      "2/2 [==============================] - 1s 391ms/step - loss: 2.5425e-04 - accuracy: 0.0013 - val_loss: 0.0028 - val_accuracy: 0.0000e+00\n",
      "Epoch 79/90\n",
      "2/2 [==============================] - 1s 389ms/step - loss: 2.6566e-04 - accuracy: 0.0013 - val_loss: 0.0022 - val_accuracy: 0.0000e+00\n",
      "Epoch 80/90\n",
      "2/2 [==============================] - 1s 390ms/step - loss: 2.9109e-04 - accuracy: 0.0013 - val_loss: 0.0027 - val_accuracy: 0.0000e+00\n",
      "Epoch 81/90\n",
      "2/2 [==============================] - 1s 389ms/step - loss: 2.7682e-04 - accuracy: 0.0013 - val_loss: 0.0024 - val_accuracy: 0.0000e+00\n",
      "Epoch 82/90\n",
      "2/2 [==============================] - 1s 391ms/step - loss: 2.5191e-04 - accuracy: 6.6667e-04 - val_loss: 0.0023 - val_accuracy: 0.0000e+00\n",
      "Epoch 83/90\n",
      "2/2 [==============================] - 1s 389ms/step - loss: 2.6005e-04 - accuracy: 0.0013 - val_loss: 0.0022 - val_accuracy: 0.0000e+00\n",
      "Epoch 84/90\n",
      "2/2 [==============================] - 1s 386ms/step - loss: 2.5676e-04 - accuracy: 0.0013 - val_loss: 0.0024 - val_accuracy: 0.0000e+00\n",
      "Epoch 85/90\n",
      "2/2 [==============================] - 1s 382ms/step - loss: 2.6977e-04 - accuracy: 0.0013 - val_loss: 0.0020 - val_accuracy: 0.0000e+00\n",
      "Epoch 86/90\n",
      "2/2 [==============================] - 1s 384ms/step - loss: 2.6548e-04 - accuracy: 0.0013 - val_loss: 0.0020 - val_accuracy: 0.0000e+00\n",
      "Epoch 87/90\n",
      "2/2 [==============================] - 1s 381ms/step - loss: 2.5234e-04 - accuracy: 0.0013 - val_loss: 0.0029 - val_accuracy: 0.0000e+00\n",
      "Epoch 88/90\n",
      "2/2 [==============================] - 1s 385ms/step - loss: 2.7100e-04 - accuracy: 6.6667e-04 - val_loss: 0.0022 - val_accuracy: 0.0000e+00\n",
      "Epoch 89/90\n",
      "2/2 [==============================] - 1s 393ms/step - loss: 2.5737e-04 - accuracy: 6.6667e-04 - val_loss: 0.0031 - val_accuracy: 0.0000e+00\n",
      "Epoch 90/90\n",
      "2/2 [==============================] - 1s 389ms/step - loss: 3.1110e-04 - accuracy: 0.0013 - val_loss: 0.0036 - val_accuracy: 0.0000e+00\n"
     ]
    },
    {
     "data": {
      "text/plain": [
       "<tensorflow.python.keras.callbacks.History at 0x7f8032678640>"
      ]
     },
     "execution_count": 26,
     "metadata": {},
     "output_type": "execute_result"
    }
   ],
   "source": [
    "model_lstm.fit(X_train,y_train,batch_size=512,epochs=90,validation_split=0.1,verbose=1)"
   ]
  },
  {
   "cell_type": "code",
   "execution_count": 32,
   "metadata": {},
   "outputs": [
    {
     "name": "stdout",
     "output_type": "stream",
     "text": [
      "(124, 1)\n"
     ]
    }
   ],
   "source": [
    "\n",
    "# copy pasted -> ist das relevant?? Frage an Herr Kohl\n",
    "\n",
    "# print(X_test[-1])\n",
    "diff=[]\n",
    "ratio=[]\n",
    "p_lstm = model_lstm.predict(X_test)\n",
    "print(p_lstm.shape)\n",
    "# for each data index in test data\n",
    "for u in range(len(y_test)):\n",
    "    # pr = prediction day u\n",
    "    pr = p_lstm[u][0]\n",
    "    # (y_test day u / pr) - 1\n",
    "    ratio.append((y_test[u]/pr)-1)\n",
    "    diff.append(abs(y_test[u]- pr))\n",
    "    # print(u, y_test[u], pr, (y_test[u]/pr)-1, abs(y_test[u]- pr))\n",
    "    # Last day prediction\n",
    "    # print(p[-1])"
   ]
  },
  {
   "cell_type": "markdown",
   "metadata": {},
   "source": [
    "### Denormalize Data"
   ]
  },
  {
   "cell_type": "code",
   "execution_count": 28,
   "metadata": {},
   "outputs": [],
   "source": [
    "# Methode von oben aufrufen\n",
    "newp_lstm = denormalize(df_apple, p_lstm)\n",
    "newy_test = denormalize(df_apple, y_test)"
   ]
  },
  {
   "cell_type": "markdown",
   "metadata": {},
   "source": [
    "### Evaluate Model"
   ]
  },
  {
   "cell_type": "code",
   "execution_count": 29,
   "metadata": {},
   "outputs": [
    {
     "name": "stdout",
     "output_type": "stream",
     "text": [
      "Train Score: 0.00057 MSE (0.02 RMSE)\n",
      "Test Score: 0.00874 MSE (0.09 RMSE)\n"
     ]
    },
    {
     "data": {
      "text/plain": [
       "(0.0005713300197385252, 0.008735009469091892)"
      ]
     },
     "execution_count": 29,
     "metadata": {},
     "output_type": "execute_result"
    }
   ],
   "source": [
    "# Methode von oben aufrufen\n",
    "model_score(model_lstm, X_train, y_train, X_test, y_test)"
   ]
  },
  {
   "cell_type": "markdown",
   "metadata": {},
   "source": [
    "### Visualization"
   ]
  },
  {
   "cell_type": "code",
   "execution_count": 30,
   "metadata": {
    "scrolled": false
   },
   "outputs": [
    {
     "data": {
      "image/png": "[encoded data removed]",
      "text/plain": [
       "<Figure size 432x288 with 1 Axes>"
      ]
     },
     "metadata": {
      "needs_background": "light"
     },
     "output_type": "display_data"
    }
   ],
   "source": [
    "# copy paste\n",
    "plt.plot(newp_lstm,color='red', label='Prediction')\n",
    "plt.plot(newy_test,color='green', label='Actual')\n",
    "plt.legend(loc='best')\n",
    "plt.show()"
   ]
  },
  {
   "cell_type": "markdown",
   "metadata": {},
   "source": [
    "## Tuning"
   ]
  },
  {
   "cell_type": "markdown",
   "metadata": {},
   "source": [
    "- Anzahl Layer\n",
    "- Parameter\n",
    "- Anzahl Trainingsdurchläufe"
   ]
  },
  {
   "cell_type": "markdown",
   "metadata": {},
   "source": [
    "### Build Model"
   ]
  },
  {
   "cell_type": "markdown",
   "metadata": {},
   "source": [
    "### Fit Model"
   ]
  },
  {
   "cell_type": "markdown",
   "metadata": {},
   "source": [
    "### Denormalize Data"
   ]
  },
  {
   "cell_type": "markdown",
   "metadata": {},
   "source": [
    "### Evaluate Model"
   ]
  },
  {
   "cell_type": "markdown",
   "metadata": {},
   "source": [
    "### Visualization"
   ]
  },
  {
   "cell_type": "markdown",
   "metadata": {},
   "source": [
    "# To Do\n",
    "- Arbeitspaket 1: Datenvisualisierung\n",
    "- Tuning"
   ]
  },
  {
   "cell_type": "markdown",
   "metadata": {},
   "source": [
    "# Quellen"
   ]
  },
  {
   "cell_type": "markdown",
   "metadata": {},
   "source": [
    "Main Source: \n",
    "- https://www.kaggle.com/benjibb/lstm-stock-prediction-20170507/notebook\n",
    "\n",
    "SimpleRNN Layer: \n",
    "- https://towardsdatascience.com/a-practical-guide-to-rnn-and-lstm-in-keras-980f176271bc\n",
    "\n",
    "as_matrix neue Methode: \n",
    "- https://pandas.pydata.org/pandas-docs/version/0.25.1/reference/api/pandas.DataFrame.as_matrix.html\n"
   ]
  },
  {
   "cell_type": "code",
   "execution_count": null,
   "metadata": {},
   "outputs": [],
   "source": []
  }
 ],
 "metadata": {
  "kernelspec": {
   "display_name": "Python 3",
   "language": "python",
   "name": "python3"
  },
  "language_info": {
   "codemirror_mode": {
    "name": "ipython",
    "version": 3
   },
   "file_extension": ".py",
   "mimetype": "text/x-python",
   "name": "python",
   "nbconvert_exporter": "python",
   "pygments_lexer": "ipython3",
   "version": "3.8.3"
  }
 },
 "nbformat": 4,
 "nbformat_minor": 4
}
