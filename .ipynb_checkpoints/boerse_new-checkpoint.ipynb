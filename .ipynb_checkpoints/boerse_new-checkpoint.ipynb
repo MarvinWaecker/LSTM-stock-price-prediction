{
 "cells": [
  {
   "cell_type": "markdown",
   "metadata": {},
   "source": [
    "Source: https://towardsdatascience.com/lstm-time-series-forecasting-predicting-stock-prices-using-an-lstm-model-6223e9644a2f"
   ]
  },
  {
   "cell_type": "code",
   "execution_count": 46,
   "metadata": {},
   "outputs": [],
   "source": [
    "import math\n",
    "import matplotlib.pyplot as plt\n",
    "import keras\n",
    "import pandas as pd\n",
    "import numpy as np\n",
    "from keras.models import Sequential\n",
    "from keras.layers import Dense\n",
    "from keras.layers import LSTM\n",
    "from keras.layers import Dropout\n",
    "from keras.layers import *\n",
    "from sklearn.preprocessing import MinMaxScaler\n",
    "from sklearn.metrics import mean_squared_error\n",
    "from sklearn.metrics import mean_absolute_error\n",
    "from sklearn.model_selection import train_test_split\n",
    "from keras.callbacks import EarlyStopping"
   ]
  },
  {
   "cell_type": "markdown",
   "metadata": {},
   "source": [
    "# Get Data"
   ]
  },
  {
   "cell_type": "code",
   "execution_count": 47,
   "metadata": {},
   "outputs": [
    {
     "name": "stdout",
     "output_type": "stream",
     "text": [
      "Number of rows and columns: (1259, 7)\n"
     ]
    },
    {
     "data": {
      "text/html": [
       "<div>\n",
       "<style scoped>\n",
       "    .dataframe tbody tr th:only-of-type {\n",
       "        vertical-align: middle;\n",
       "    }\n",
       "\n",
       "    .dataframe tbody tr th {\n",
       "        vertical-align: top;\n",
       "    }\n",
       "\n",
       "    .dataframe thead th {\n",
       "        text-align: right;\n",
       "    }\n",
       "</style>\n",
       "<table border=\"1\" class=\"dataframe\">\n",
       "  <thead>\n",
       "    <tr style=\"text-align: right;\">\n",
       "      <th></th>\n",
       "      <th>Date</th>\n",
       "      <th>Open</th>\n",
       "      <th>High</th>\n",
       "      <th>Low</th>\n",
       "      <th>Close</th>\n",
       "      <th>Adj Close</th>\n",
       "      <th>Volume</th>\n",
       "    </tr>\n",
       "  </thead>\n",
       "  <tbody>\n",
       "    <tr>\n",
       "      <th>0</th>\n",
       "      <td>2015-12-16</td>\n",
       "      <td>27.767500</td>\n",
       "      <td>27.997499</td>\n",
       "      <td>27.200001</td>\n",
       "      <td>27.834999</td>\n",
       "      <td>25.578905</td>\n",
       "      <td>224954000</td>\n",
       "    </tr>\n",
       "    <tr>\n",
       "      <th>1</th>\n",
       "      <td>2015-12-17</td>\n",
       "      <td>28.004999</td>\n",
       "      <td>28.062500</td>\n",
       "      <td>27.245001</td>\n",
       "      <td>27.245001</td>\n",
       "      <td>25.036730</td>\n",
       "      <td>179091200</td>\n",
       "    </tr>\n",
       "    <tr>\n",
       "      <th>2</th>\n",
       "      <td>2015-12-18</td>\n",
       "      <td>27.227501</td>\n",
       "      <td>27.379999</td>\n",
       "      <td>26.452499</td>\n",
       "      <td>26.507500</td>\n",
       "      <td>24.359007</td>\n",
       "      <td>385813200</td>\n",
       "    </tr>\n",
       "    <tr>\n",
       "      <th>3</th>\n",
       "      <td>2015-12-21</td>\n",
       "      <td>26.820000</td>\n",
       "      <td>26.842501</td>\n",
       "      <td>26.392500</td>\n",
       "      <td>26.832500</td>\n",
       "      <td>24.657661</td>\n",
       "      <td>190362400</td>\n",
       "    </tr>\n",
       "    <tr>\n",
       "      <th>4</th>\n",
       "      <td>2015-12-22</td>\n",
       "      <td>26.850000</td>\n",
       "      <td>26.930000</td>\n",
       "      <td>26.612499</td>\n",
       "      <td>26.807501</td>\n",
       "      <td>24.634689</td>\n",
       "      <td>131157600</td>\n",
       "    </tr>\n",
       "  </tbody>\n",
       "</table>\n",
       "</div>"
      ],
      "text/plain": [
       "         Date       Open       High        Low      Close  Adj Close  \\\n",
       "0  2015-12-16  27.767500  27.997499  27.200001  27.834999  25.578905   \n",
       "1  2015-12-17  28.004999  28.062500  27.245001  27.245001  25.036730   \n",
       "2  2015-12-18  27.227501  27.379999  26.452499  26.507500  24.359007   \n",
       "3  2015-12-21  26.820000  26.842501  26.392500  26.832500  24.657661   \n",
       "4  2015-12-22  26.850000  26.930000  26.612499  26.807501  24.634689   \n",
       "\n",
       "      Volume  \n",
       "0  224954000  \n",
       "1  179091200  \n",
       "2  385813200  \n",
       "3  190362400  \n",
       "4  131157600  "
      ]
     },
     "execution_count": 47,
     "metadata": {},
     "output_type": "execute_result"
    }
   ],
   "source": [
    "df=pd.read_csv(\"AAPL.csv\")\n",
    "print('Number of rows and columns:', df.shape)\n",
    "df.head(5)"
   ]
  },
  {
   "cell_type": "markdown",
   "metadata": {},
   "source": [
    "# Split Data"
   ]
  },
  {
   "cell_type": "code",
   "execution_count": 48,
   "metadata": {},
   "outputs": [],
   "source": [
    "training_set = df.iloc[:1000, 1:2].values\n",
    "test_set = df.iloc[1000:, 1:2].values"
   ]
  },
  {
   "cell_type": "markdown",
   "metadata": {},
   "source": [
    "# Normalize & Sliding Window Train Data"
   ]
  },
  {
   "cell_type": "code",
   "execution_count": 49,
   "metadata": {},
   "outputs": [],
   "source": [
    "# Feature Scaling\n",
    "sc = MinMaxScaler(feature_range = (0, 1))\n",
    "training_set_scaled = sc.fit_transform(training_set)\n",
    "# Creating a data structure with 50 time-steps and 1 output\n",
    "X_train = []\n",
    "y_train = []\n",
    "for i in range(60, 1000):\n",
    "    X_train.append(training_set_scaled[i-50:i, 0]) # was 60\n",
    "    y_train.append(training_set_scaled[i, 0])\n",
    "X_train, y_train = np.array(X_train), np.array(y_train)\n",
    "X_train = np.reshape(X_train, (X_train.shape[0], X_train.shape[1], 1))\n",
    "#(940, 50, 1)"
   ]
  },
  {
   "cell_type": "markdown",
   "metadata": {},
   "source": [
    "# Build & Train Model"
   ]
  },
  {
   "cell_type": "code",
   "execution_count": 20,
   "metadata": {},
   "outputs": [
    {
     "name": "stdout",
     "output_type": "stream",
     "text": [
      "Epoch 1/100\n",
      "30/30 [==============================] - 5s 43ms/step - loss: 0.0747\n",
      "Epoch 2/100\n",
      "30/30 [==============================] - 1s 42ms/step - loss: 0.0087\n",
      "Epoch 3/100\n",
      "30/30 [==============================] - 1s 41ms/step - loss: 0.0056\n",
      "Epoch 4/100\n",
      "30/30 [==============================] - 1s 42ms/step - loss: 0.0055\n",
      "Epoch 5/100\n",
      "30/30 [==============================] - 1s 45ms/step - loss: 0.0049\n",
      "Epoch 6/100\n",
      "30/30 [==============================] - 1s 44ms/step - loss: 0.0047\n",
      "Epoch 7/100\n",
      "30/30 [==============================] - 1s 42ms/step - loss: 0.0041\n",
      "Epoch 8/100\n",
      "30/30 [==============================] - 1s 41ms/step - loss: 0.0039\n",
      "Epoch 9/100\n",
      "30/30 [==============================] - 1s 42ms/step - loss: 0.0042\n",
      "Epoch 10/100\n",
      "30/30 [==============================] - 1s 44ms/step - loss: 0.0041\n",
      "Epoch 11/100\n",
      "30/30 [==============================] - 1s 45ms/step - loss: 0.0036\n",
      "Epoch 12/100\n",
      "30/30 [==============================] - 1s 42ms/step - loss: 0.0041\n",
      "Epoch 13/100\n",
      "30/30 [==============================] - 1s 44ms/step - loss: 0.0032\n",
      "Epoch 14/100\n",
      "30/30 [==============================] - 1s 42ms/step - loss: 0.0035\n",
      "Epoch 15/100\n",
      "30/30 [==============================] - 1s 44ms/step - loss: 0.0037\n",
      "Epoch 16/100\n",
      "30/30 [==============================] - 1s 43ms/step - loss: 0.0030\n",
      "Epoch 17/100\n",
      "30/30 [==============================] - 1s 45ms/step - loss: 0.0039\n",
      "Epoch 18/100\n",
      "30/30 [==============================] - 1s 45ms/step - loss: 0.0036\n",
      "Epoch 19/100\n",
      "30/30 [==============================] - 1s 43ms/step - loss: 0.0034\n",
      "Epoch 20/100\n",
      "30/30 [==============================] - 1s 45ms/step - loss: 0.0030\n",
      "Epoch 21/100\n",
      "30/30 [==============================] - 1s 43ms/step - loss: 0.0026\n",
      "Epoch 22/100\n",
      "30/30 [==============================] - 1s 44ms/step - loss: 0.0029\n",
      "Epoch 23/100\n",
      "30/30 [==============================] - 1s 45ms/step - loss: 0.0028\n",
      "Epoch 24/100\n",
      "30/30 [==============================] - 1s 44ms/step - loss: 0.0027\n",
      "Epoch 25/100\n",
      "30/30 [==============================] - 1s 44ms/step - loss: 0.0026\n",
      "Epoch 26/100\n",
      "30/30 [==============================] - 1s 42ms/step - loss: 0.0025\n",
      "Epoch 27/100\n",
      "30/30 [==============================] - 1s 42ms/step - loss: 0.0028\n",
      "Epoch 28/100\n",
      "30/30 [==============================] - 1s 42ms/step - loss: 0.0026\n",
      "Epoch 29/100\n",
      "30/30 [==============================] - 1s 42ms/step - loss: 0.0032\n",
      "Epoch 30/100\n",
      "30/30 [==============================] - 1s 45ms/step - loss: 0.0024\n",
      "Epoch 31/100\n",
      "30/30 [==============================] - 1s 44ms/step - loss: 0.0026\n",
      "Epoch 32/100\n",
      "30/30 [==============================] - 1s 47ms/step - loss: 0.0027\n",
      "Epoch 33/100\n",
      "30/30 [==============================] - 1s 46ms/step - loss: 0.0026\n",
      "Epoch 34/100\n",
      "30/30 [==============================] - 1s 49ms/step - loss: 0.0023\n",
      "Epoch 35/100\n",
      "30/30 [==============================] - 1s 46ms/step - loss: 0.0022\n",
      "Epoch 36/100\n",
      "30/30 [==============================] - 1s 43ms/step - loss: 0.0021\n",
      "Epoch 37/100\n",
      "30/30 [==============================] - 1s 45ms/step - loss: 0.0021\n",
      "Epoch 38/100\n",
      "30/30 [==============================] - 1s 43ms/step - loss: 0.0023\n",
      "Epoch 39/100\n",
      "30/30 [==============================] - 1s 45ms/step - loss: 0.0024\n",
      "Epoch 40/100\n",
      "30/30 [==============================] - 1s 44ms/step - loss: 0.0023\n",
      "Epoch 41/100\n",
      "30/30 [==============================] - 1s 44ms/step - loss: 0.0023\n",
      "Epoch 42/100\n",
      "30/30 [==============================] - 1s 43ms/step - loss: 0.0019\n",
      "Epoch 43/100\n",
      "30/30 [==============================] - 1s 44ms/step - loss: 0.0020\n",
      "Epoch 44/100\n",
      "30/30 [==============================] - 1s 45ms/step - loss: 0.0020\n",
      "Epoch 45/100\n",
      "30/30 [==============================] - 1s 45ms/step - loss: 0.0019\n",
      "Epoch 46/100\n",
      "30/30 [==============================] - 1s 45ms/step - loss: 0.0032\n",
      "Epoch 47/100\n",
      "30/30 [==============================] - 1s 49ms/step - loss: 0.0018\n",
      "Epoch 48/100\n",
      "30/30 [==============================] - 2s 50ms/step - loss: 0.0018\n",
      "Epoch 49/100\n",
      "30/30 [==============================] - 1s 45ms/step - loss: 0.0018\n",
      "Epoch 50/100\n",
      "30/30 [==============================] - 1s 46ms/step - loss: 0.0018\n",
      "Epoch 51/100\n",
      "30/30 [==============================] - 1s 44ms/step - loss: 0.0019\n",
      "Epoch 52/100\n",
      "30/30 [==============================] - 1s 43ms/step - loss: 0.0018\n",
      "Epoch 53/100\n",
      "30/30 [==============================] - 1s 44ms/step - loss: 0.0017\n",
      "Epoch 54/100\n",
      "30/30 [==============================] - 1s 43ms/step - loss: 0.0020\n",
      "Epoch 55/100\n",
      "30/30 [==============================] - 1s 43ms/step - loss: 0.0019\n",
      "Epoch 56/100\n",
      "30/30 [==============================] - 1s 45ms/step - loss: 0.0017\n",
      "Epoch 57/100\n",
      "30/30 [==============================] - 1s 43ms/step - loss: 0.0017\n",
      "Epoch 58/100\n",
      "30/30 [==============================] - 1s 43ms/step - loss: 0.0019\n",
      "Epoch 59/100\n",
      "30/30 [==============================] - 1s 43ms/step - loss: 0.0018\n",
      "Epoch 60/100\n",
      "30/30 [==============================] - 1s 46ms/step - loss: 0.0017\n",
      "Epoch 61/100\n",
      "30/30 [==============================] - 1s 43ms/step - loss: 0.0016\n",
      "Epoch 62/100\n",
      "30/30 [==============================] - 1s 47ms/step - loss: 0.0021\n",
      "Epoch 63/100\n",
      "30/30 [==============================] - 1s 46ms/step - loss: 0.0017\n",
      "Epoch 64/100\n",
      "30/30 [==============================] - 1s 44ms/step - loss: 0.0015\n",
      "Epoch 65/100\n",
      "30/30 [==============================] - 1s 44ms/step - loss: 0.0018\n",
      "Epoch 66/100\n",
      "30/30 [==============================] - 1s 44ms/step - loss: 0.0022\n",
      "Epoch 67/100\n",
      "30/30 [==============================] - 1s 44ms/step - loss: 0.0017\n",
      "Epoch 68/100\n",
      "30/30 [==============================] - 1s 44ms/step - loss: 0.0015\n",
      "Epoch 69/100\n",
      "30/30 [==============================] - 1s 46ms/step - loss: 0.0015\n",
      "Epoch 70/100\n",
      "30/30 [==============================] - 1s 44ms/step - loss: 0.0016\n",
      "Epoch 71/100\n",
      "30/30 [==============================] - 1s 43ms/step - loss: 0.0014\n",
      "Epoch 72/100\n",
      "30/30 [==============================] - 1s 43ms/step - loss: 0.0016\n",
      "Epoch 73/100\n",
      "30/30 [==============================] - 1s 43ms/step - loss: 0.0016\n",
      "Epoch 74/100\n",
      "30/30 [==============================] - 1s 43ms/step - loss: 0.0015\n",
      "Epoch 75/100\n",
      "30/30 [==============================] - 1s 43ms/step - loss: 0.0016\n",
      "Epoch 76/100\n",
      "30/30 [==============================] - 1s 44ms/step - loss: 0.0013\n",
      "Epoch 77/100\n",
      "30/30 [==============================] - 1s 43ms/step - loss: 0.0014\n",
      "Epoch 78/100\n",
      "30/30 [==============================] - 1s 43ms/step - loss: 0.0013\n",
      "Epoch 79/100\n",
      "30/30 [==============================] - 1s 47ms/step - loss: 0.0015\n",
      "Epoch 80/100\n",
      "30/30 [==============================] - 1s 46ms/step - loss: 0.0012\n",
      "Epoch 81/100\n",
      "30/30 [==============================] - 1s 44ms/step - loss: 0.0015\n",
      "Epoch 82/100\n",
      "30/30 [==============================] - 1s 46ms/step - loss: 0.0016\n",
      "Epoch 83/100\n",
      "30/30 [==============================] - 1s 44ms/step - loss: 0.0012\n",
      "Epoch 84/100\n",
      "30/30 [==============================] - 1s 44ms/step - loss: 0.0015\n",
      "Epoch 85/100\n",
      "30/30 [==============================] - 1s 43ms/step - loss: 0.0012\n",
      "Epoch 86/100\n",
      "30/30 [==============================] - 1s 43ms/step - loss: 0.0013\n",
      "Epoch 87/100\n",
      "30/30 [==============================] - 1s 43ms/step - loss: 0.0013\n",
      "Epoch 88/100\n",
      "30/30 [==============================] - 1s 44ms/step - loss: 0.0012\n",
      "Epoch 89/100\n",
      "30/30 [==============================] - 1s 44ms/step - loss: 0.0013\n",
      "Epoch 90/100\n",
      "30/30 [==============================] - 1s 45ms/step - loss: 0.0013\n",
      "Epoch 91/100\n",
      "30/30 [==============================] - 1s 45ms/step - loss: 0.0013\n",
      "Epoch 92/100\n",
      "30/30 [==============================] - 1s 46ms/step - loss: 0.0012\n",
      "Epoch 93/100\n",
      "30/30 [==============================] - 1s 44ms/step - loss: 0.0015\n",
      "Epoch 94/100\n",
      "30/30 [==============================] - 1s 43ms/step - loss: 0.0012\n",
      "Epoch 95/100\n",
      "30/30 [==============================] - 1s 43ms/step - loss: 0.0013\n",
      "Epoch 96/100\n",
      "30/30 [==============================] - 1s 43ms/step - loss: 0.0012\n",
      "Epoch 97/100\n",
      "30/30 [==============================] - 1s 45ms/step - loss: 0.0013\n",
      "Epoch 98/100\n",
      "30/30 [==============================] - 1s 43ms/step - loss: 0.0013\n",
      "Epoch 99/100\n",
      "30/30 [==============================] - 1s 44ms/step - loss: 0.0011\n",
      "Epoch 100/100\n",
      "30/30 [==============================] - 1s 43ms/step - loss: 0.0010\n"
     ]
    },
    {
     "data": {
      "text/plain": [
       "<tensorflow.python.keras.callbacks.History at 0x7fd785a766d0>"
      ]
     },
     "execution_count": 20,
     "metadata": {},
     "output_type": "execute_result"
    }
   ],
   "source": [
    "model = Sequential()\n",
    "#Adding the first LSTM layer and some Dropout regularisation\n",
    "model.add(LSTM(units = 50, return_sequences = True, input_shape = (X_train.shape[1], 1)))\n",
    "model.add(Dropout(0.2))\n",
    "# Adding a second LSTM layer and some Dropout regularisation\n",
    "model.add(LSTM(units = 50, return_sequences = True))\n",
    "model.add(Dropout(0.2))\n",
    "# Adding a third LSTM layer and some Dropout regularisation\n",
    "model.add(LSTM(units = 50, return_sequences = True))\n",
    "model.add(Dropout(0.2))\n",
    "# Adding a fourth LSTM layer and some Dropout regularisation\n",
    "model.add(LSTM(units = 50))\n",
    "model.add(Dropout(0.2))\n",
    "# Adding the output layer\n",
    "model.add(Dense(units = 1))\n",
    "\n",
    "# Compiling LSTM\n",
    "model.compile(optimizer = 'adam', loss = 'mean_squared_error')\n",
    "\n",
    "# Fitting LSTM\n",
    "model.fit(X_train, y_train, epochs = 100, batch_size = 32)"
   ]
  },
  {
   "cell_type": "markdown",
   "metadata": {},
   "source": [
    "# Normalize & Sliding Window Test Data"
   ]
  },
  {
   "cell_type": "code",
   "execution_count": 51,
   "metadata": {},
   "outputs": [
    {
     "name": "stdout",
     "output_type": "stream",
     "text": [
      "(459, 50, 1)\n"
     ]
    }
   ],
   "source": [
    "dataset_train = df.iloc[:800, 1:2]\n",
    "dataset_test = df.iloc[800:, 1:2]\n",
    "# Creating a data structure with 50 time-steps and 1 output\n",
    "dataset_total = pd.concat((dataset_train, dataset_test), axis = 0)\n",
    "inputs = dataset_total[len(dataset_total) - len(dataset_test) - 60:].values\n",
    "inputs = inputs.reshape(-1,1)\n",
    "inputs = sc.transform(inputs)\n",
    "X_test = []\n",
    "y_test = []\n",
    "for i in range(60, 519):\n",
    "    X_test.append(inputs[i-50:i, 0])\n",
    "    y_test.append(inputs[i, 0])\n",
    "X_test = np.array(X_test)\n",
    "y_test = np.array(y_test)\n",
    "X_test = np.reshape(X_test, (X_test.shape[0], X_test.shape[1], 1))\n",
    "print(X_test.shape)\n",
    "# (459, 60, 1)"
   ]
  },
  {
   "cell_type": "markdown",
   "metadata": {},
   "source": [
    "# Predict Stock Prices"
   ]
  },
  {
   "cell_type": "code",
   "execution_count": 52,
   "metadata": {},
   "outputs": [],
   "source": [
    "predicted_stock_price = model.predict(X_test)\n",
    "predicted_stock_price = sc.inverse_transform(predicted_stock_price)"
   ]
  },
  {
   "cell_type": "markdown",
   "metadata": {},
   "source": [
    "# Visualize"
   ]
  },
  {
   "cell_type": "code",
   "execution_count": 53,
   "metadata": {},
   "outputs": [
    {
     "data": {
      "image/png": "[encoded data removed]",
      "text/plain": [
       "<Figure size 1152x720 with 1 Axes>"
      ]
     },
     "metadata": {
      "needs_background": "light"
     },
     "output_type": "display_data"
    }
   ],
   "source": [
    "plt.figure(figsize=(16, 10));\n",
    "plt.plot(df.loc[800:, 'Date'],dataset_test.values, color = 'red', label = 'Real Apple Stock Price')\n",
    "plt.plot(df.loc[800:, 'Date'],predicted_stock_price, color = 'blue', label = 'Predicted Apple Stock Price')\n",
    "plt.xticks(np.arange(0,459,50))\n",
    "plt.title('Apple Stock Price Prediction')\n",
    "plt.xlabel('Time')\n",
    "plt.ylabel('Apple Stock Price')\n",
    "plt.legend()\n",
    "plt.show()"
   ]
  },
  {
   "cell_type": "code",
   "execution_count": null,
   "metadata": {},
   "outputs": [],
   "source": []
  }
 ],
 "metadata": {
  "kernelspec": {
   "display_name": "Python 3",
   "language": "python",
   "name": "python3"
  },
  "language_info": {
   "codemirror_mode": {
    "name": "ipython",
    "version": 3
   },
   "file_extension": ".py",
   "mimetype": "text/x-python",
   "name": "python",
   "nbconvert_exporter": "python",
   "pygments_lexer": "ipython3",
   "version": "3.8.3"
  }
 },
 "nbformat": 4,
 "nbformat_minor": 4
}
